{
 "cells": [
  {
   "cell_type": "markdown",
   "metadata": {},
   "source": [
    "# Introductory applied machine learning (INFR10069)\n",
    "# Assignment 3 (Part A): Object Recognition [75%]"
   ]
  },
  {
   "cell_type": "markdown",
   "metadata": {},
   "source": [
    "<div align=\"right\"><font color=\"blue\" size=\"5\">Your Score was 87.0 out of a total of 94.0, or 92.6%</font></div>"
   ]
  },
  {
   "cell_type": "markdown",
   "metadata": {},
   "source": [
    "## Important Instructions\n",
    "\n",
    "**It is important that you follow the instructions below to the letter - we will not be responsible for incorrect marking due to non-standard practices.**\n",
    "\n",
    "1. <font color='red'>We have split Assignment 3 into two parts to make it easier for you to work on them separately and for the markers to give you feedback. This is part A of Assignment 3 - Part B is the Mini-Challenge. Both Assignments together are still worth 50% of CourseWork 2. **Remember to submit both notebooks (you can submit them separately).**</font>\n",
    "\n",
    "1. You *MUST* have your environment set up as in the [README](https://github.com/michael-camilleri/IAML2018) and you *must activate this environment before running this notebook*:\n",
    "```\n",
    "source activate py3iaml\n",
    "cd [DIRECTORY CONTAINING GIT REPOSITORY]\n",
    "jupyter notebook\n",
    "# Navigate to this file\n",
    "```\n",
    "\n",
    "1. Read the instructions carefully, especially where asked to name variables with a specific name. Wherever you are required to produce code you should use code cells, otherwise you should use markdown cells to report results and explain answers. In most cases we indicate the nature of answer we are expecting (code/text), and also provide the code/markdown cell where to put it\n",
    "\n",
    "1. There are some questions which are **specific to those taking the Level-11 version** of the course (INFR11182 and INFR11152). These are clearly marked with the words **(LEVEL 11)** and must be completed by those taking the Level 11 course. Those on the Level 10 version (INFR10069) may (and are advised to) attempt such questions but this will not affect their mark in any way, nor will they get feedback on them.\n",
    "\n",
    "1. The .csv files that you will be using are located at `./datasets` (i.e. use the `datasets` directory **adjacent** to this file).\n",
    "\n",
    "1. Keep your answers brief and concise. Most written questions can be answered with 2-3 lines of explanation: **in questions where this is specified, you will be penalised if you go over.**\n",
    "\n",
    "1. Make sure to distinguish between **attributes** (columns of the data) and **features** (typically referring only to the independent variables).\n",
    "\n",
    "1. Make sure to show **all** your code/working. \n",
    "\n",
    "1. Write readable code. While we do not expect you to follow [PEP8](https://www.python.org/dev/peps/pep-0008/) to the letter, the code should be adequately understandable, with plots/visualisations correctly labelled. **Do** use inline comments when doing something non-standard. When asked to present numerical values, make sure to represent real numbers in the appropriate precision to exemplify your answer. Marks *WILL* be deducted if the marker cannot understand your logic/results.\n",
    "\n",
    "1. **Collaboration:** You may discuss the assignment with your colleagues, provided that the writing that you submit is entirely your own. That is, you must NOT borrow actual text or code from other students. We ask that you provide a list of the people who you've had discussions with (if any). Please refer to the [Academic Misconduct](http://web.inf.ed.ac.uk/infweb/admin/policies/academic-misconduct) page for what consistutes a breach of the above.\n",
    "\n",
    "### SUBMISSION Mechanics\n",
    "\n",
    "**IMPORTANT:** You must submit this assignment by **Thursday 15/11/2018 at 16:00**. \n",
    "\n",
    "**Late submissions:** The policy stated in the School of Informatics is that normally you will not be allowed to submit coursework late. See the [ITO webpage](http://web.inf.ed.ac.uk/infweb/student-services/ito/admin/coursework-projects/late-coursework-extension-requests) for exceptions to this, e.g. in case of serious medical illness or serious personal problems.\n",
    "\n",
    "**Resubmission:** If you submit your file(s) again, the previous submission is **overwritten**. We will mark the version that is in the submission folder at the deadline.\n",
    "\n",
    "**N.B.**: This Assignment requires submitting **two files (electronically as described below)**:\n",
    " 1. This Jupyter Notebook for Part A, *and*\n",
    " 1. The Jupyter Notebook for Part B\n",
    " \n",
    "All submissions happen electronically. To submit:\n",
    "\n",
    "1. Fill out this notebook (as well as Part B), making sure to:\n",
    "   1. save it with **all code/text and visualisations**: markers are NOT expected to run any cells,\n",
    "   1. keep the name of the file **UNCHANGED**, *and*\n",
    "   1. **keeping the same structure**: retain the questions, and avoid adding unnecessary cells unless absolutely necessary, as this makes the job harder for the markers.\n",
    "\n",
    "1. Submit it using the `submit` functionality. To do this, you must be on a DICE environment. Open a Terminal, and:\n",
    "   1. **On-Campus Students**: navigate to the location of this notebook and execute the following command:\n",
    "   \n",
    "      ```submit iaml cw2 03_A_ObjectRecognition.ipynb 03_B_MiniChallenge.ipynb```\n",
    "      \n",
    "   1. **Distance Learners:** These instructions also apply to those students who work on their own computer. First you need to copy your work onto DICE (so that you can use the `submit` command). For this, you can use `scp` or `rsync` (you may need to install these yourself). You can copy files to `student.ssh.inf.ed.ac.uk`, then ssh into it in order to submit. The following is an example. Replace entries in `[square brackets]` with your specific details: i.e. if your student number is for example s1234567, then `[YOUR USERNAME]` becomes `s1234567`.\n",
    "   \n",
    "    ```\n",
    "    scp -r [FULL PATH TO 03_A_ObjectRecognition.ipynb] [YOUR USERNAME]@student.ssh.inf.ed.ac.uk:03_A_ObjectRecognition.ipynb\n",
    "    scp -r [FULL PATH TO 03_B_MiniChallenge.ipynb] [YOUR USERNAME]@student.ssh.inf.ed.ac.uk:03_B_MiniChallenge.ipynb\n",
    "    ssh [YOUR USERNAME]@student.ssh.inf.ed.ac.uk\n",
    "    ssh student.login\n",
    "    submit iaml cw2 03_A_ObjectRecognition.ipynb 03_B_MiniChallenge.ipynb\n",
    "    ```\n",
    "    \n",
    "   What actually happens in the background is that your file is placed in a folder available to markers. If you submit a file with the same name into the same location, **it will *overwrite* your previous submission**. You should receive an automatic email confirmation after submission.\n",
    "  \n",
    "\n",
    "\n",
    "### Marking Breakdown\n",
    "\n",
    "The Level 10 and Level 11 points are marked out of different totals, however these are all normalised to 100%. Note that Part A (this notebook) is worth 75% of the total Mark for Assignment 3, while Part B (Mini-Challenge) is worth 25%: *keep this breakdown in mind when planning your work, especially for Part B*.\n",
    "\n",
    "**70-100%** results/answer correct plus extra achievement at understanding or analysis of results. Clear explanations, evidence of creative or deeper thought will contribute to a higher grade.\n",
    "\n",
    "**60-69%** results/answer correct or nearly correct and well explained.\n",
    "\n",
    "**50-59%** results/answer in right direction but significant errors.\n",
    "\n",
    "**40-49%** some evidence that the student has gained some understanding, but not answered the questions\n",
    "properly.\n",
    "\n",
    "**0-39%** serious error or slack work.\n",
    "\n",
    "Note that while this is not a programming assignment, in questions which involve visualisation of results and/or long cold snippets, some marks may be deducted if the code is not adequately readable."
   ]
  },
  {
   "cell_type": "markdown",
   "metadata": {},
   "source": [
    "## Imports\n",
    "\n",
    "Use the cell below to include any imports you deem necessary."
   ]
  },
  {
   "cell_type": "code",
   "execution_count": 1,
   "metadata": {},
   "outputs": [
    {
     "name": "stderr",
     "output_type": "stream",
     "text": [
      "C:\\Users\\User\\Miniconda3\\envs\\py3iaml\\lib\\site-packages\\sklearn\\utils\\__init__.py:4: DeprecationWarning: Using or importing the ABCs from 'collections' instead of from 'collections.abc' is deprecated, and in 3.8 it will stop working\n",
      "  from collections import Sequence\n"
     ]
    }
   ],
   "source": [
    "# Nice Formatting within Jupyter Notebook\n",
    "%matplotlib inline\n",
    "from IPython.display import display # Allows multiple displays from a single code-cell\n",
    "\n",
    "# System functionality\n",
    "import sys\n",
    "sys.path.append('..')\n",
    "\n",
    "# Import Here any Additional modules you use. To import utilities we provide, use something like:\n",
    "#   from utils.plotter import plot_hinton\n",
    "\n",
    "# Your Code goes here:\n",
    "import os\n",
    "import sklearn\n",
    "import numpy as np\n",
    "import pandas as pd\n",
    "import matplotlib.pyplot as plt\n",
    "import seaborn as sns\n",
    "import graphviz\n",
    "from utils import plotter\n",
    "from sklearn.model_selection import train_test_split,cross_val_score\n",
    "from sklearn.linear_model import LogisticRegression\n",
    "from sklearn.svm import SVC\n",
    "from sklearn.metrics import accuracy_score\n",
    "from sklearn.preprocessing import RobustScaler"
   ]
  },
  {
   "cell_type": "markdown",
   "metadata": {},
   "source": [
    "## Description of the dataset\n",
    "In this assignment our goal is to recognize objects in images of realistic scenes. There are 19 different classes of object e.g. person, dog, cat, car, etc. The dataset derives from several thousands photographs harvested from the web. Each object of a relevant class has been manually annotated with a bounding box. Images can contain none, one or multiple objects of each class. We have prepared a [website](http://www.inf.ed.ac.uk/teaching/courses/iaml/2014/assts/asst3/images.html) where you can view the images.\n",
    "\n",
    "We are going to detect whether images contain a person or not - a binary classification problem. To save you time and to make the problem manageable with limited computational resources, we have preprocessed the dataset. We will use the [Bag of Visual Words](https://en.wikipedia.org/wiki/Bag-of-words_model_in_computer_vision) representation. Each column of the dataset (which is not a label), refers to a 'visual word'. Each image is represented by a 500 dimensional vector that contains the normalized count for each of 500 different visual words present in the respective image (a similar representation is used for the spambase dataset, just for real words). *Note that the normalisation procedure involves dividing the count vector by the total number of visual words in the image, i.e. the normalized counts sum to 1 for each image*. See the Appendix at the bottom of the notebook for more information. The image data is thus a $N \\times 500$ dimensional matrix where `N` is the number of images.\n",
    "\n",
    "The full dataset has 520 attributes (dimensions). The first attribute (`imgId`) contains the image ID which allows you to associate a data point with an actual image. The next 500 attributes (`dim1`, ..., `dim500`) are a normalized count vector for each visual word: these are the `features` of the data. The last 19 attributes, which follow the pattern `is_[class]` are the class labels -- here 1 means the class is present in the image. In most of the experiments (unless explicitly noted otherwise) you will only need the `is_person` attribute and the 500 dimensional feature vector. **Do not use the additional class indicator attributes as features** unless explicitly told to do so. \n",
    "\n",
    "**Important**: *Throughout the assignment you will be given various versions of the dataset that are relevant\n",
    "to a particular question. Please be careful to use the correct version of the dataset when instructed to do so.\n",
    "If you use the wrong version of the dataset by mistake no marks will be awarded.*"
   ]
  },
  {
   "cell_type": "markdown",
   "metadata": {},
   "source": [
    "## 1. Exploration of the dataset"
   ]
  },
  {
   "cell_type": "markdown",
   "metadata": {},
   "source": [
    "<a id='question1_1'></a>\n",
    "### ========== Question 1.1 --- [12 marks] ==========\n",
    "\n",
    "We will first get a feel for the data. *IMPORTANT: Show all your code!*\n",
    "\n",
    "&nbsp;&nbsp;**(a)** [Code] Load the training dataset `Images_A_Train.csv` into a pandas dataframe, keeping only the Visual Features and the `is_person` column. <br>\n",
    "&nbsp;&nbsp;&nbsp;&nbsp;*Hint: You may wish to first have a look at the column names*<br>\n",
    "&nbsp;&nbsp;**(b)** [Code] Using suitable pandas methods, summarise the key properties of the data, *and*<br>\n",
    "&nbsp;&nbsp;**(c)** [Text] comment on your observations from ***(b)*** (dimensionality, data ranges, anything out of the ordinary)."
   ]
  },
  {
   "cell_type": "markdown",
   "metadata": {},
   "source": [
    "<div align=\"right\"><font color=\"blue\" size=\"4\">11.0/12.0</font></div>"
   ]
  },
  {
   "cell_type": "code",
   "execution_count": 2,
   "metadata": {},
   "outputs": [],
   "source": [
    "# (a) # Your Code goes here:\n",
    "a_train_loc = os.path.join(os.getcwd(), 'datasets', 'Images_A_Train.csv')\n",
    "img_a_train=pd.read_csv(a_train_loc)\n",
    "label_a_train=img_a_train['is_person'] #selecting only the is_person class label from our dataset.\n",
    "features_a_train=img_a_train.loc[:,'dim1':'dim500'] #selecting only the visual features from our dataset.\n",
    "img_a_train=pd.concat([features_a_train,label_a_train],axis=1)#merging the visual features with the is_person class label.\n"
   ]
  },
  {
   "cell_type": "markdown",
   "metadata": {},
   "source": [
    "<div align=\"right\"><font color=\"blue\" size=\"4\">3.0</font></div>"
   ]
  },
  {
   "cell_type": "code",
   "execution_count": 3,
   "metadata": {},
   "outputs": [
    {
     "data": {
      "text/html": [
       "<div>\n",
       "<style scoped>\n",
       "    .dataframe tbody tr th:only-of-type {\n",
       "        vertical-align: middle;\n",
       "    }\n",
       "\n",
       "    .dataframe tbody tr th {\n",
       "        vertical-align: top;\n",
       "    }\n",
       "\n",
       "    .dataframe thead th {\n",
       "        text-align: right;\n",
       "    }\n",
       "</style>\n",
       "<table border=\"1\" class=\"dataframe\">\n",
       "  <thead>\n",
       "    <tr style=\"text-align: right;\">\n",
       "      <th></th>\n",
       "      <th>dim1</th>\n",
       "      <th>dim2</th>\n",
       "      <th>dim3</th>\n",
       "      <th>dim4</th>\n",
       "      <th>dim5</th>\n",
       "      <th>dim6</th>\n",
       "      <th>dim7</th>\n",
       "      <th>dim8</th>\n",
       "      <th>dim9</th>\n",
       "      <th>dim10</th>\n",
       "      <th>...</th>\n",
       "      <th>dim492</th>\n",
       "      <th>dim493</th>\n",
       "      <th>dim494</th>\n",
       "      <th>dim495</th>\n",
       "      <th>dim496</th>\n",
       "      <th>dim497</th>\n",
       "      <th>dim498</th>\n",
       "      <th>dim499</th>\n",
       "      <th>dim500</th>\n",
       "      <th>is_person</th>\n",
       "    </tr>\n",
       "  </thead>\n",
       "  <tbody>\n",
       "    <tr>\n",
       "      <th>count</th>\n",
       "      <td>2093.000000</td>\n",
       "      <td>2093.000000</td>\n",
       "      <td>2093.000000</td>\n",
       "      <td>2093.000000</td>\n",
       "      <td>2093.000000</td>\n",
       "      <td>2093.000000</td>\n",
       "      <td>2093.000000</td>\n",
       "      <td>2093.000000</td>\n",
       "      <td>2093.000000</td>\n",
       "      <td>2093.000000</td>\n",
       "      <td>...</td>\n",
       "      <td>2093.000000</td>\n",
       "      <td>2093.000000</td>\n",
       "      <td>2093.000000</td>\n",
       "      <td>2093.000000</td>\n",
       "      <td>2093.000000</td>\n",
       "      <td>2093.000000</td>\n",
       "      <td>2093.000000</td>\n",
       "      <td>2093.000000</td>\n",
       "      <td>2093.000000</td>\n",
       "      <td>2093.000000</td>\n",
       "    </tr>\n",
       "    <tr>\n",
       "      <th>mean</th>\n",
       "      <td>0.001751</td>\n",
       "      <td>0.000756</td>\n",
       "      <td>0.004317</td>\n",
       "      <td>0.001853</td>\n",
       "      <td>0.002272</td>\n",
       "      <td>0.002220</td>\n",
       "      <td>0.001019</td>\n",
       "      <td>0.002446</td>\n",
       "      <td>0.002088</td>\n",
       "      <td>0.002746</td>\n",
       "      <td>...</td>\n",
       "      <td>0.000563</td>\n",
       "      <td>0.004586</td>\n",
       "      <td>0.001541</td>\n",
       "      <td>0.003642</td>\n",
       "      <td>0.002200</td>\n",
       "      <td>0.002928</td>\n",
       "      <td>0.002173</td>\n",
       "      <td>0.002485</td>\n",
       "      <td>0.002978</td>\n",
       "      <td>0.449116</td>\n",
       "    </tr>\n",
       "    <tr>\n",
       "      <th>std</th>\n",
       "      <td>0.001193</td>\n",
       "      <td>0.001406</td>\n",
       "      <td>0.003693</td>\n",
       "      <td>0.001340</td>\n",
       "      <td>0.001598</td>\n",
       "      <td>0.001741</td>\n",
       "      <td>0.000873</td>\n",
       "      <td>0.002910</td>\n",
       "      <td>0.001971</td>\n",
       "      <td>0.002328</td>\n",
       "      <td>...</td>\n",
       "      <td>0.001203</td>\n",
       "      <td>0.005825</td>\n",
       "      <td>0.001192</td>\n",
       "      <td>0.002657</td>\n",
       "      <td>0.001664</td>\n",
       "      <td>0.003254</td>\n",
       "      <td>0.001418</td>\n",
       "      <td>0.001997</td>\n",
       "      <td>0.002765</td>\n",
       "      <td>0.497523</td>\n",
       "    </tr>\n",
       "    <tr>\n",
       "      <th>min</th>\n",
       "      <td>0.000000</td>\n",
       "      <td>0.000000</td>\n",
       "      <td>0.000000</td>\n",
       "      <td>0.000000</td>\n",
       "      <td>0.000000</td>\n",
       "      <td>0.000000</td>\n",
       "      <td>0.000000</td>\n",
       "      <td>0.000000</td>\n",
       "      <td>0.000000</td>\n",
       "      <td>0.000000</td>\n",
       "      <td>...</td>\n",
       "      <td>0.000000</td>\n",
       "      <td>0.000000</td>\n",
       "      <td>0.000000</td>\n",
       "      <td>0.000000</td>\n",
       "      <td>0.000000</td>\n",
       "      <td>0.000000</td>\n",
       "      <td>0.000000</td>\n",
       "      <td>0.000000</td>\n",
       "      <td>0.000000</td>\n",
       "      <td>0.000000</td>\n",
       "    </tr>\n",
       "    <tr>\n",
       "      <th>25%</th>\n",
       "      <td>0.000833</td>\n",
       "      <td>0.000000</td>\n",
       "      <td>0.001359</td>\n",
       "      <td>0.000756</td>\n",
       "      <td>0.001116</td>\n",
       "      <td>0.001019</td>\n",
       "      <td>0.000340</td>\n",
       "      <td>0.000625</td>\n",
       "      <td>0.000744</td>\n",
       "      <td>0.001116</td>\n",
       "      <td>...</td>\n",
       "      <td>0.000000</td>\n",
       "      <td>0.000679</td>\n",
       "      <td>0.000679</td>\n",
       "      <td>0.001698</td>\n",
       "      <td>0.001019</td>\n",
       "      <td>0.000744</td>\n",
       "      <td>0.001116</td>\n",
       "      <td>0.001019</td>\n",
       "      <td>0.001019</td>\n",
       "      <td>0.000000</td>\n",
       "    </tr>\n",
       "    <tr>\n",
       "      <th>50%</th>\n",
       "      <td>0.001563</td>\n",
       "      <td>0.000340</td>\n",
       "      <td>0.003397</td>\n",
       "      <td>0.001698</td>\n",
       "      <td>0.002038</td>\n",
       "      <td>0.001860</td>\n",
       "      <td>0.000744</td>\n",
       "      <td>0.001563</td>\n",
       "      <td>0.001698</td>\n",
       "      <td>0.002056</td>\n",
       "      <td>...</td>\n",
       "      <td>0.000000</td>\n",
       "      <td>0.002717</td>\n",
       "      <td>0.001359</td>\n",
       "      <td>0.003057</td>\n",
       "      <td>0.001860</td>\n",
       "      <td>0.001953</td>\n",
       "      <td>0.002038</td>\n",
       "      <td>0.002038</td>\n",
       "      <td>0.002232</td>\n",
       "      <td>0.000000</td>\n",
       "    </tr>\n",
       "    <tr>\n",
       "      <th>75%</th>\n",
       "      <td>0.002378</td>\n",
       "      <td>0.000893</td>\n",
       "      <td>0.006324</td>\n",
       "      <td>0.002717</td>\n",
       "      <td>0.003057</td>\n",
       "      <td>0.003057</td>\n",
       "      <td>0.001488</td>\n",
       "      <td>0.003397</td>\n",
       "      <td>0.002717</td>\n",
       "      <td>0.003736</td>\n",
       "      <td>...</td>\n",
       "      <td>0.000679</td>\n",
       "      <td>0.006454</td>\n",
       "      <td>0.002232</td>\n",
       "      <td>0.004808</td>\n",
       "      <td>0.003057</td>\n",
       "      <td>0.003780</td>\n",
       "      <td>0.002976</td>\n",
       "      <td>0.003397</td>\n",
       "      <td>0.004076</td>\n",
       "      <td>1.000000</td>\n",
       "    </tr>\n",
       "    <tr>\n",
       "      <th>max</th>\n",
       "      <td>0.009851</td>\n",
       "      <td>0.016644</td>\n",
       "      <td>0.027514</td>\n",
       "      <td>0.010789</td>\n",
       "      <td>0.010417</td>\n",
       "      <td>0.021739</td>\n",
       "      <td>0.005774</td>\n",
       "      <td>0.029830</td>\n",
       "      <td>0.028372</td>\n",
       "      <td>0.020380</td>\n",
       "      <td>...</td>\n",
       "      <td>0.021739</td>\n",
       "      <td>0.053329</td>\n",
       "      <td>0.010234</td>\n",
       "      <td>0.024457</td>\n",
       "      <td>0.011719</td>\n",
       "      <td>0.028125</td>\n",
       "      <td>0.008492</td>\n",
       "      <td>0.014509</td>\n",
       "      <td>0.028533</td>\n",
       "      <td>1.000000</td>\n",
       "    </tr>\n",
       "  </tbody>\n",
       "</table>\n",
       "<p>8 rows × 501 columns</p>\n",
       "</div>"
      ],
      "text/plain": [
       "              dim1         dim2         dim3         dim4         dim5  \\\n",
       "count  2093.000000  2093.000000  2093.000000  2093.000000  2093.000000   \n",
       "mean      0.001751     0.000756     0.004317     0.001853     0.002272   \n",
       "std       0.001193     0.001406     0.003693     0.001340     0.001598   \n",
       "min       0.000000     0.000000     0.000000     0.000000     0.000000   \n",
       "25%       0.000833     0.000000     0.001359     0.000756     0.001116   \n",
       "50%       0.001563     0.000340     0.003397     0.001698     0.002038   \n",
       "75%       0.002378     0.000893     0.006324     0.002717     0.003057   \n",
       "max       0.009851     0.016644     0.027514     0.010789     0.010417   \n",
       "\n",
       "              dim6         dim7         dim8         dim9        dim10  \\\n",
       "count  2093.000000  2093.000000  2093.000000  2093.000000  2093.000000   \n",
       "mean      0.002220     0.001019     0.002446     0.002088     0.002746   \n",
       "std       0.001741     0.000873     0.002910     0.001971     0.002328   \n",
       "min       0.000000     0.000000     0.000000     0.000000     0.000000   \n",
       "25%       0.001019     0.000340     0.000625     0.000744     0.001116   \n",
       "50%       0.001860     0.000744     0.001563     0.001698     0.002056   \n",
       "75%       0.003057     0.001488     0.003397     0.002717     0.003736   \n",
       "max       0.021739     0.005774     0.029830     0.028372     0.020380   \n",
       "\n",
       "          ...            dim492       dim493       dim494       dim495  \\\n",
       "count     ...       2093.000000  2093.000000  2093.000000  2093.000000   \n",
       "mean      ...          0.000563     0.004586     0.001541     0.003642   \n",
       "std       ...          0.001203     0.005825     0.001192     0.002657   \n",
       "min       ...          0.000000     0.000000     0.000000     0.000000   \n",
       "25%       ...          0.000000     0.000679     0.000679     0.001698   \n",
       "50%       ...          0.000000     0.002717     0.001359     0.003057   \n",
       "75%       ...          0.000679     0.006454     0.002232     0.004808   \n",
       "max       ...          0.021739     0.053329     0.010234     0.024457   \n",
       "\n",
       "            dim496       dim497       dim498       dim499       dim500  \\\n",
       "count  2093.000000  2093.000000  2093.000000  2093.000000  2093.000000   \n",
       "mean      0.002200     0.002928     0.002173     0.002485     0.002978   \n",
       "std       0.001664     0.003254     0.001418     0.001997     0.002765   \n",
       "min       0.000000     0.000000     0.000000     0.000000     0.000000   \n",
       "25%       0.001019     0.000744     0.001116     0.001019     0.001019   \n",
       "50%       0.001860     0.001953     0.002038     0.002038     0.002232   \n",
       "75%       0.003057     0.003780     0.002976     0.003397     0.004076   \n",
       "max       0.011719     0.028125     0.008492     0.014509     0.028533   \n",
       "\n",
       "         is_person  \n",
       "count  2093.000000  \n",
       "mean      0.449116  \n",
       "std       0.497523  \n",
       "min       0.000000  \n",
       "25%       0.000000  \n",
       "50%       0.000000  \n",
       "75%       1.000000  \n",
       "max       1.000000  \n",
       "\n",
       "[8 rows x 501 columns]"
      ]
     },
     "metadata": {},
     "output_type": "display_data"
    },
    {
     "name": "stdout",
     "output_type": "stream",
     "text": [
      "<class 'pandas.core.frame.DataFrame'>\n",
      "RangeIndex: 2093 entries, 0 to 2092\n",
      "Columns: 501 entries, dim1 to is_person\n",
      "dtypes: float64(495), int64(6)\n",
      "memory usage: 8.0 MB\n"
     ]
    },
    {
     "data": {
      "text/plain": [
       "None"
      ]
     },
     "metadata": {},
     "output_type": "display_data"
    },
    {
     "data": {
      "text/html": [
       "<div>\n",
       "<style scoped>\n",
       "    .dataframe tbody tr th:only-of-type {\n",
       "        vertical-align: middle;\n",
       "    }\n",
       "\n",
       "    .dataframe tbody tr th {\n",
       "        vertical-align: top;\n",
       "    }\n",
       "\n",
       "    .dataframe thead th {\n",
       "        text-align: right;\n",
       "    }\n",
       "</style>\n",
       "<table border=\"1\" class=\"dataframe\">\n",
       "  <thead>\n",
       "    <tr style=\"text-align: right;\">\n",
       "      <th></th>\n",
       "      <th>dim72</th>\n",
       "      <th>dim91</th>\n",
       "      <th>dim140</th>\n",
       "      <th>dim293</th>\n",
       "      <th>dim374</th>\n",
       "      <th>is_person</th>\n",
       "    </tr>\n",
       "  </thead>\n",
       "  <tbody>\n",
       "    <tr>\n",
       "      <th>0</th>\n",
       "      <td>0</td>\n",
       "      <td>0</td>\n",
       "      <td>0</td>\n",
       "      <td>0</td>\n",
       "      <td>0</td>\n",
       "      <td>1</td>\n",
       "    </tr>\n",
       "    <tr>\n",
       "      <th>1</th>\n",
       "      <td>0</td>\n",
       "      <td>0</td>\n",
       "      <td>0</td>\n",
       "      <td>0</td>\n",
       "      <td>0</td>\n",
       "      <td>0</td>\n",
       "    </tr>\n",
       "    <tr>\n",
       "      <th>2</th>\n",
       "      <td>0</td>\n",
       "      <td>0</td>\n",
       "      <td>0</td>\n",
       "      <td>0</td>\n",
       "      <td>0</td>\n",
       "      <td>0</td>\n",
       "    </tr>\n",
       "  </tbody>\n",
       "</table>\n",
       "</div>"
      ],
      "text/plain": [
       "   dim72  dim91  dim140  dim293  dim374  is_person\n",
       "0      0      0       0       0       0          1\n",
       "1      0      0       0       0       0          0\n",
       "2      0      0       0       0       0          0"
      ]
     },
     "metadata": {},
     "output_type": "display_data"
    },
    {
     "data": {
      "text/plain": [
       "Index(['dim72', 'dim91', 'dim140', 'dim293', 'dim374', 'is_person'], dtype='object')"
      ]
     },
     "metadata": {},
     "output_type": "display_data"
    },
    {
     "data": {
      "text/html": [
       "<div>\n",
       "<style scoped>\n",
       "    .dataframe tbody tr th:only-of-type {\n",
       "        vertical-align: middle;\n",
       "    }\n",
       "\n",
       "    .dataframe tbody tr th {\n",
       "        vertical-align: top;\n",
       "    }\n",
       "\n",
       "    .dataframe thead th {\n",
       "        text-align: right;\n",
       "    }\n",
       "</style>\n",
       "<table border=\"1\" class=\"dataframe\">\n",
       "  <thead>\n",
       "    <tr style=\"text-align: right;\">\n",
       "      <th></th>\n",
       "      <th>dim1</th>\n",
       "      <th>dim2</th>\n",
       "      <th>dim3</th>\n",
       "      <th>dim4</th>\n",
       "      <th>dim5</th>\n",
       "      <th>dim6</th>\n",
       "      <th>dim7</th>\n",
       "      <th>dim8</th>\n",
       "      <th>dim9</th>\n",
       "      <th>dim10</th>\n",
       "      <th>...</th>\n",
       "      <th>dim492</th>\n",
       "      <th>dim493</th>\n",
       "      <th>dim494</th>\n",
       "      <th>dim495</th>\n",
       "      <th>dim496</th>\n",
       "      <th>dim497</th>\n",
       "      <th>dim498</th>\n",
       "      <th>dim499</th>\n",
       "      <th>dim500</th>\n",
       "      <th>is_person</th>\n",
       "    </tr>\n",
       "  </thead>\n",
       "  <tbody>\n",
       "  </tbody>\n",
       "</table>\n",
       "<p>0 rows × 501 columns</p>\n",
       "</div>"
      ],
      "text/plain": [
       "Empty DataFrame\n",
       "Columns: [dim1, dim2, dim3, dim4, dim5, dim6, dim7, dim8, dim9, dim10, dim11, dim12, dim13, dim14, dim15, dim16, dim17, dim18, dim19, dim20, dim21, dim22, dim23, dim24, dim25, dim26, dim27, dim28, dim29, dim30, dim31, dim32, dim33, dim34, dim35, dim36, dim37, dim38, dim39, dim40, dim41, dim42, dim43, dim44, dim45, dim46, dim47, dim48, dim49, dim50, dim51, dim52, dim53, dim54, dim55, dim56, dim57, dim58, dim59, dim60, dim61, dim62, dim63, dim64, dim65, dim66, dim67, dim68, dim69, dim70, dim71, dim72, dim73, dim74, dim75, dim76, dim77, dim78, dim79, dim80, dim81, dim82, dim83, dim84, dim85, dim86, dim87, dim88, dim89, dim90, dim91, dim92, dim93, dim94, dim95, dim96, dim97, dim98, dim99, dim100, ...]\n",
       "Index: []\n",
       "\n",
       "[0 rows x 501 columns]"
      ]
     },
     "metadata": {},
     "output_type": "display_data"
    }
   ],
   "source": [
    "# (b) # Your Code goes here:\n",
    "#summary statistics, to see range of data.\n",
    "display(img_a_train.describe())\n",
    "#basic information, to see dimensionality and other info.\n",
    "display(img_a_train.info())\n",
    "#inspect why there are 5 columns other than is_person which have integer data type.\n",
    "ints=img_a_train.loc[:,img_a_train.dtypes=='int64'].head(3)\n",
    "display(ints)\n",
    "display(ints.columns) #to extract the column names\n",
    "#observed that these columns have integer values 0, test if there is any value other than 0 for one of those columns.\n",
    "display(img_a_train.loc[img_a_train['dim374']>0])"
   ]
  },
  {
   "cell_type": "markdown",
   "metadata": {},
   "source": [
    "<div align=\"right\"><font color=\"blue\" size=\"4\">4.0</font></div>"
   ]
  },
  {
   "cell_type": "markdown",
   "metadata": {},
   "source": [
    "(c) ***Your answer goes here:***\n",
    "There are 2093 images (rows) in this dataset, with 500 visual features (dim1 to dim500) and 1 true class label (is_person, shows whether each picture contains a person (1) or not (0) ) for each, which gives us 501 columns. Almost half (~44.9% as seen from the mean of is_person) of our images are classified as containing a person. All *visual words* (feature columns) have **minimum** count values=0(they do not occur in some images/data points)  and their maximum values vary.\n",
    "However, 5 of the visual features ([dim72, dim91, dim140, dim293 and dim374]), which are of integer data type, do **not have non-zero counts for any image//all zeros**, which means that these particular *visual words* are not useful for determining the class of **any** image in this dataset(or even **harmful** in cases(i.e.*regression* classifiers) where they *can't be ignored* and behave as ***outliers in that dimension***). "
   ]
  },
  {
   "cell_type": "markdown",
   "metadata": {},
   "source": [
    "<div align=\"right\"><font color=\"blue\" size=\"4\">4.0</font></div>"
   ]
  },
  {
   "cell_type": "markdown",
   "metadata": {},
   "source": [
    "### ========== Question 1.2 --- [8 marks] ==========\n",
    "\n",
    "Now we will prepare the testing set in a similar manner.\n",
    "\n",
    "&nbsp;&nbsp;**(a)** [Code] Load the testing dataset `Images_A_Test.csv` into a pandas dataframe: again extract the Visual Features and the `is_person` column. <br>\n",
    "&nbsp;&nbsp;**(b)** [Code] Using similar methods to [Q1.1](#question1_1) verify that the testing set is similar to the training set.<br>\n",
    "&nbsp;&nbsp;**(c)** [Text] Indicate the dimensionality, and comment on any discrepancies if any (if they are similar, just say so)."
   ]
  },
  {
   "cell_type": "markdown",
   "metadata": {},
   "source": [
    "<div align=\"right\"><font color=\"blue\" size=\"4\">7.0/8.0</font></div>"
   ]
  },
  {
   "cell_type": "code",
   "execution_count": 4,
   "metadata": {},
   "outputs": [],
   "source": [
    "# (a) # Your Code goes here:\n",
    "a_test_loc = os.path.join(os.getcwd(), 'datasets', 'Images_A_Test.csv')\n",
    "img_a_test=pd.read_csv(a_test_loc)\n",
    "label_a_test=img_a_test['is_person'] #selecting only the is_person class label from our dataset.\n",
    "features_a_test=img_a_test.loc[:,'dim1':'dim500'] #selecting only the visual features from our dataset.\n",
    "img_a_test=pd.concat([features_a_test,label_a_test],axis=1)#merging the visual features with the is_person class label."
   ]
  },
  {
   "cell_type": "markdown",
   "metadata": {},
   "source": [
    "<div align=\"right\"><font color=\"blue\" size=\"4\">2.0</font></div>"
   ]
  },
  {
   "cell_type": "code",
   "execution_count": 5,
   "metadata": {},
   "outputs": [
    {
     "data": {
      "text/html": [
       "<div>\n",
       "<style scoped>\n",
       "    .dataframe tbody tr th:only-of-type {\n",
       "        vertical-align: middle;\n",
       "    }\n",
       "\n",
       "    .dataframe tbody tr th {\n",
       "        vertical-align: top;\n",
       "    }\n",
       "\n",
       "    .dataframe thead th {\n",
       "        text-align: right;\n",
       "    }\n",
       "</style>\n",
       "<table border=\"1\" class=\"dataframe\">\n",
       "  <thead>\n",
       "    <tr style=\"text-align: right;\">\n",
       "      <th></th>\n",
       "      <th>dim1</th>\n",
       "      <th>dim2</th>\n",
       "      <th>dim3</th>\n",
       "      <th>dim4</th>\n",
       "      <th>dim5</th>\n",
       "      <th>dim6</th>\n",
       "      <th>dim7</th>\n",
       "      <th>dim8</th>\n",
       "      <th>dim9</th>\n",
       "      <th>dim10</th>\n",
       "      <th>...</th>\n",
       "      <th>dim492</th>\n",
       "      <th>dim493</th>\n",
       "      <th>dim494</th>\n",
       "      <th>dim495</th>\n",
       "      <th>dim496</th>\n",
       "      <th>dim497</th>\n",
       "      <th>dim498</th>\n",
       "      <th>dim499</th>\n",
       "      <th>dim500</th>\n",
       "      <th>is_person</th>\n",
       "    </tr>\n",
       "  </thead>\n",
       "  <tbody>\n",
       "    <tr>\n",
       "      <th>count</th>\n",
       "      <td>1113.000000</td>\n",
       "      <td>1113.000000</td>\n",
       "      <td>1113.000000</td>\n",
       "      <td>1113.000000</td>\n",
       "      <td>1113.000000</td>\n",
       "      <td>1113.000000</td>\n",
       "      <td>1113.000000</td>\n",
       "      <td>1113.000000</td>\n",
       "      <td>1113.000000</td>\n",
       "      <td>1113.000000</td>\n",
       "      <td>...</td>\n",
       "      <td>1113.000000</td>\n",
       "      <td>1113.000000</td>\n",
       "      <td>1113.000000</td>\n",
       "      <td>1113.000000</td>\n",
       "      <td>1113.000000</td>\n",
       "      <td>1113.000000</td>\n",
       "      <td>1113.000000</td>\n",
       "      <td>1113.000000</td>\n",
       "      <td>1113.000000</td>\n",
       "      <td>1113.000000</td>\n",
       "    </tr>\n",
       "    <tr>\n",
       "      <th>mean</th>\n",
       "      <td>0.001744</td>\n",
       "      <td>0.000702</td>\n",
       "      <td>0.004720</td>\n",
       "      <td>0.001978</td>\n",
       "      <td>0.002321</td>\n",
       "      <td>0.002110</td>\n",
       "      <td>0.001037</td>\n",
       "      <td>0.002529</td>\n",
       "      <td>0.002006</td>\n",
       "      <td>0.002641</td>\n",
       "      <td>...</td>\n",
       "      <td>0.000598</td>\n",
       "      <td>0.004817</td>\n",
       "      <td>0.001585</td>\n",
       "      <td>0.003611</td>\n",
       "      <td>0.002196</td>\n",
       "      <td>0.002772</td>\n",
       "      <td>0.002239</td>\n",
       "      <td>0.002407</td>\n",
       "      <td>0.003097</td>\n",
       "      <td>0.473495</td>\n",
       "    </tr>\n",
       "    <tr>\n",
       "      <th>std</th>\n",
       "      <td>0.001209</td>\n",
       "      <td>0.001364</td>\n",
       "      <td>0.003876</td>\n",
       "      <td>0.001417</td>\n",
       "      <td>0.001558</td>\n",
       "      <td>0.001559</td>\n",
       "      <td>0.000885</td>\n",
       "      <td>0.002736</td>\n",
       "      <td>0.001919</td>\n",
       "      <td>0.002293</td>\n",
       "      <td>...</td>\n",
       "      <td>0.001241</td>\n",
       "      <td>0.005831</td>\n",
       "      <td>0.001243</td>\n",
       "      <td>0.002471</td>\n",
       "      <td>0.001575</td>\n",
       "      <td>0.003182</td>\n",
       "      <td>0.001346</td>\n",
       "      <td>0.001868</td>\n",
       "      <td>0.002590</td>\n",
       "      <td>0.499521</td>\n",
       "    </tr>\n",
       "    <tr>\n",
       "      <th>min</th>\n",
       "      <td>0.000000</td>\n",
       "      <td>0.000000</td>\n",
       "      <td>0.000000</td>\n",
       "      <td>0.000000</td>\n",
       "      <td>0.000000</td>\n",
       "      <td>0.000000</td>\n",
       "      <td>0.000000</td>\n",
       "      <td>0.000000</td>\n",
       "      <td>0.000000</td>\n",
       "      <td>0.000000</td>\n",
       "      <td>...</td>\n",
       "      <td>0.000000</td>\n",
       "      <td>0.000000</td>\n",
       "      <td>0.000000</td>\n",
       "      <td>0.000000</td>\n",
       "      <td>0.000000</td>\n",
       "      <td>0.000000</td>\n",
       "      <td>0.000000</td>\n",
       "      <td>0.000000</td>\n",
       "      <td>0.000000</td>\n",
       "      <td>0.000000</td>\n",
       "    </tr>\n",
       "    <tr>\n",
       "      <th>25%</th>\n",
       "      <td>0.000744</td>\n",
       "      <td>0.000000</td>\n",
       "      <td>0.001698</td>\n",
       "      <td>0.001019</td>\n",
       "      <td>0.001172</td>\n",
       "      <td>0.001019</td>\n",
       "      <td>0.000340</td>\n",
       "      <td>0.000679</td>\n",
       "      <td>0.000781</td>\n",
       "      <td>0.001019</td>\n",
       "      <td>...</td>\n",
       "      <td>0.000000</td>\n",
       "      <td>0.000679</td>\n",
       "      <td>0.000679</td>\n",
       "      <td>0.001860</td>\n",
       "      <td>0.001019</td>\n",
       "      <td>0.000679</td>\n",
       "      <td>0.001250</td>\n",
       "      <td>0.001019</td>\n",
       "      <td>0.001359</td>\n",
       "      <td>0.000000</td>\n",
       "    </tr>\n",
       "    <tr>\n",
       "      <th>50%</th>\n",
       "      <td>0.001563</td>\n",
       "      <td>0.000340</td>\n",
       "      <td>0.003736</td>\n",
       "      <td>0.001698</td>\n",
       "      <td>0.002038</td>\n",
       "      <td>0.001803</td>\n",
       "      <td>0.000781</td>\n",
       "      <td>0.001698</td>\n",
       "      <td>0.001563</td>\n",
       "      <td>0.002038</td>\n",
       "      <td>...</td>\n",
       "      <td>0.000000</td>\n",
       "      <td>0.002734</td>\n",
       "      <td>0.001359</td>\n",
       "      <td>0.003125</td>\n",
       "      <td>0.001860</td>\n",
       "      <td>0.001838</td>\n",
       "      <td>0.002038</td>\n",
       "      <td>0.002038</td>\n",
       "      <td>0.002604</td>\n",
       "      <td>0.000000</td>\n",
       "    </tr>\n",
       "    <tr>\n",
       "      <th>75%</th>\n",
       "      <td>0.002378</td>\n",
       "      <td>0.000758</td>\n",
       "      <td>0.007102</td>\n",
       "      <td>0.002734</td>\n",
       "      <td>0.003057</td>\n",
       "      <td>0.002976</td>\n",
       "      <td>0.001488</td>\n",
       "      <td>0.003397</td>\n",
       "      <td>0.002717</td>\n",
       "      <td>0.003397</td>\n",
       "      <td>...</td>\n",
       "      <td>0.000679</td>\n",
       "      <td>0.006793</td>\n",
       "      <td>0.002232</td>\n",
       "      <td>0.004836</td>\n",
       "      <td>0.003057</td>\n",
       "      <td>0.003736</td>\n",
       "      <td>0.003057</td>\n",
       "      <td>0.003348</td>\n",
       "      <td>0.004092</td>\n",
       "      <td>1.000000</td>\n",
       "    </tr>\n",
       "    <tr>\n",
       "      <th>max</th>\n",
       "      <td>0.007133</td>\n",
       "      <td>0.022135</td>\n",
       "      <td>0.023438</td>\n",
       "      <td>0.008929</td>\n",
       "      <td>0.010417</td>\n",
       "      <td>0.010789</td>\n",
       "      <td>0.005757</td>\n",
       "      <td>0.022396</td>\n",
       "      <td>0.025000</td>\n",
       "      <td>0.013927</td>\n",
       "      <td>...</td>\n",
       "      <td>0.012747</td>\n",
       "      <td>0.042026</td>\n",
       "      <td>0.009821</td>\n",
       "      <td>0.015625</td>\n",
       "      <td>0.013346</td>\n",
       "      <td>0.029225</td>\n",
       "      <td>0.007068</td>\n",
       "      <td>0.011889</td>\n",
       "      <td>0.026786</td>\n",
       "      <td>1.000000</td>\n",
       "    </tr>\n",
       "  </tbody>\n",
       "</table>\n",
       "<p>8 rows × 501 columns</p>\n",
       "</div>"
      ],
      "text/plain": [
       "              dim1         dim2         dim3         dim4         dim5  \\\n",
       "count  1113.000000  1113.000000  1113.000000  1113.000000  1113.000000   \n",
       "mean      0.001744     0.000702     0.004720     0.001978     0.002321   \n",
       "std       0.001209     0.001364     0.003876     0.001417     0.001558   \n",
       "min       0.000000     0.000000     0.000000     0.000000     0.000000   \n",
       "25%       0.000744     0.000000     0.001698     0.001019     0.001172   \n",
       "50%       0.001563     0.000340     0.003736     0.001698     0.002038   \n",
       "75%       0.002378     0.000758     0.007102     0.002734     0.003057   \n",
       "max       0.007133     0.022135     0.023438     0.008929     0.010417   \n",
       "\n",
       "              dim6         dim7         dim8         dim9        dim10  \\\n",
       "count  1113.000000  1113.000000  1113.000000  1113.000000  1113.000000   \n",
       "mean      0.002110     0.001037     0.002529     0.002006     0.002641   \n",
       "std       0.001559     0.000885     0.002736     0.001919     0.002293   \n",
       "min       0.000000     0.000000     0.000000     0.000000     0.000000   \n",
       "25%       0.001019     0.000340     0.000679     0.000781     0.001019   \n",
       "50%       0.001803     0.000781     0.001698     0.001563     0.002038   \n",
       "75%       0.002976     0.001488     0.003397     0.002717     0.003397   \n",
       "max       0.010789     0.005757     0.022396     0.025000     0.013927   \n",
       "\n",
       "          ...            dim492       dim493       dim494       dim495  \\\n",
       "count     ...       1113.000000  1113.000000  1113.000000  1113.000000   \n",
       "mean      ...          0.000598     0.004817     0.001585     0.003611   \n",
       "std       ...          0.001241     0.005831     0.001243     0.002471   \n",
       "min       ...          0.000000     0.000000     0.000000     0.000000   \n",
       "25%       ...          0.000000     0.000679     0.000679     0.001860   \n",
       "50%       ...          0.000000     0.002734     0.001359     0.003125   \n",
       "75%       ...          0.000679     0.006793     0.002232     0.004836   \n",
       "max       ...          0.012747     0.042026     0.009821     0.015625   \n",
       "\n",
       "            dim496       dim497       dim498       dim499       dim500  \\\n",
       "count  1113.000000  1113.000000  1113.000000  1113.000000  1113.000000   \n",
       "mean      0.002196     0.002772     0.002239     0.002407     0.003097   \n",
       "std       0.001575     0.003182     0.001346     0.001868     0.002590   \n",
       "min       0.000000     0.000000     0.000000     0.000000     0.000000   \n",
       "25%       0.001019     0.000679     0.001250     0.001019     0.001359   \n",
       "50%       0.001860     0.001838     0.002038     0.002038     0.002604   \n",
       "75%       0.003057     0.003736     0.003057     0.003348     0.004092   \n",
       "max       0.013346     0.029225     0.007068     0.011889     0.026786   \n",
       "\n",
       "         is_person  \n",
       "count  1113.000000  \n",
       "mean      0.473495  \n",
       "std       0.499521  \n",
       "min       0.000000  \n",
       "25%       0.000000  \n",
       "50%       0.000000  \n",
       "75%       1.000000  \n",
       "max       1.000000  \n",
       "\n",
       "[8 rows x 501 columns]"
      ]
     },
     "metadata": {},
     "output_type": "display_data"
    },
    {
     "name": "stdout",
     "output_type": "stream",
     "text": [
      "<class 'pandas.core.frame.DataFrame'>\n",
      "RangeIndex: 1113 entries, 0 to 1112\n",
      "Columns: 501 entries, dim1 to is_person\n",
      "dtypes: float64(494), int64(7)\n",
      "memory usage: 4.3 MB\n"
     ]
    },
    {
     "data": {
      "text/plain": [
       "None"
      ]
     },
     "metadata": {},
     "output_type": "display_data"
    },
    {
     "data": {
      "text/html": [
       "<div>\n",
       "<style scoped>\n",
       "    .dataframe tbody tr th:only-of-type {\n",
       "        vertical-align: middle;\n",
       "    }\n",
       "\n",
       "    .dataframe tbody tr th {\n",
       "        vertical-align: top;\n",
       "    }\n",
       "\n",
       "    .dataframe thead th {\n",
       "        text-align: right;\n",
       "    }\n",
       "</style>\n",
       "<table border=\"1\" class=\"dataframe\">\n",
       "  <thead>\n",
       "    <tr style=\"text-align: right;\">\n",
       "      <th></th>\n",
       "      <th>dim63</th>\n",
       "      <th>dim72</th>\n",
       "      <th>dim91</th>\n",
       "      <th>dim140</th>\n",
       "      <th>dim293</th>\n",
       "      <th>dim374</th>\n",
       "      <th>is_person</th>\n",
       "    </tr>\n",
       "  </thead>\n",
       "  <tbody>\n",
       "    <tr>\n",
       "      <th>0</th>\n",
       "      <td>0</td>\n",
       "      <td>0</td>\n",
       "      <td>0</td>\n",
       "      <td>0</td>\n",
       "      <td>0</td>\n",
       "      <td>0</td>\n",
       "      <td>1</td>\n",
       "    </tr>\n",
       "    <tr>\n",
       "      <th>1</th>\n",
       "      <td>0</td>\n",
       "      <td>0</td>\n",
       "      <td>0</td>\n",
       "      <td>0</td>\n",
       "      <td>0</td>\n",
       "      <td>0</td>\n",
       "      <td>1</td>\n",
       "    </tr>\n",
       "    <tr>\n",
       "      <th>2</th>\n",
       "      <td>0</td>\n",
       "      <td>0</td>\n",
       "      <td>0</td>\n",
       "      <td>0</td>\n",
       "      <td>0</td>\n",
       "      <td>0</td>\n",
       "      <td>1</td>\n",
       "    </tr>\n",
       "  </tbody>\n",
       "</table>\n",
       "</div>"
      ],
      "text/plain": [
       "   dim63  dim72  dim91  dim140  dim293  dim374  is_person\n",
       "0      0      0      0       0       0       0          1\n",
       "1      0      0      0       0       0       0          1\n",
       "2      0      0      0       0       0       0          1"
      ]
     },
     "metadata": {},
     "output_type": "display_data"
    },
    {
     "data": {
      "text/plain": [
       "Index(['dim63', 'dim72', 'dim91', 'dim140', 'dim293', 'dim374', 'is_person'], dtype='object')"
      ]
     },
     "metadata": {},
     "output_type": "display_data"
    },
    {
     "data": {
      "text/html": [
       "<div>\n",
       "<style scoped>\n",
       "    .dataframe tbody tr th:only-of-type {\n",
       "        vertical-align: middle;\n",
       "    }\n",
       "\n",
       "    .dataframe tbody tr th {\n",
       "        vertical-align: top;\n",
       "    }\n",
       "\n",
       "    .dataframe thead th {\n",
       "        text-align: right;\n",
       "    }\n",
       "</style>\n",
       "<table border=\"1\" class=\"dataframe\">\n",
       "  <thead>\n",
       "    <tr style=\"text-align: right;\">\n",
       "      <th></th>\n",
       "      <th>dim1</th>\n",
       "      <th>dim2</th>\n",
       "      <th>dim3</th>\n",
       "      <th>dim4</th>\n",
       "      <th>dim5</th>\n",
       "      <th>dim6</th>\n",
       "      <th>dim7</th>\n",
       "      <th>dim8</th>\n",
       "      <th>dim9</th>\n",
       "      <th>dim10</th>\n",
       "      <th>...</th>\n",
       "      <th>dim492</th>\n",
       "      <th>dim493</th>\n",
       "      <th>dim494</th>\n",
       "      <th>dim495</th>\n",
       "      <th>dim496</th>\n",
       "      <th>dim497</th>\n",
       "      <th>dim498</th>\n",
       "      <th>dim499</th>\n",
       "      <th>dim500</th>\n",
       "      <th>is_person</th>\n",
       "    </tr>\n",
       "  </thead>\n",
       "  <tbody>\n",
       "  </tbody>\n",
       "</table>\n",
       "<p>0 rows × 501 columns</p>\n",
       "</div>"
      ],
      "text/plain": [
       "Empty DataFrame\n",
       "Columns: [dim1, dim2, dim3, dim4, dim5, dim6, dim7, dim8, dim9, dim10, dim11, dim12, dim13, dim14, dim15, dim16, dim17, dim18, dim19, dim20, dim21, dim22, dim23, dim24, dim25, dim26, dim27, dim28, dim29, dim30, dim31, dim32, dim33, dim34, dim35, dim36, dim37, dim38, dim39, dim40, dim41, dim42, dim43, dim44, dim45, dim46, dim47, dim48, dim49, dim50, dim51, dim52, dim53, dim54, dim55, dim56, dim57, dim58, dim59, dim60, dim61, dim62, dim63, dim64, dim65, dim66, dim67, dim68, dim69, dim70, dim71, dim72, dim73, dim74, dim75, dim76, dim77, dim78, dim79, dim80, dim81, dim82, dim83, dim84, dim85, dim86, dim87, dim88, dim89, dim90, dim91, dim92, dim93, dim94, dim95, dim96, dim97, dim98, dim99, dim100, ...]\n",
       "Index: []\n",
       "\n",
       "[0 rows x 501 columns]"
      ]
     },
     "metadata": {},
     "output_type": "display_data"
    }
   ],
   "source": [
    "# (b) # Your Code goes here:\n",
    "#summary statistics, to see range of data.\n",
    "display(img_a_test.describe())\n",
    "#basic information, to see dimensionality and other info.\n",
    "display(img_a_test.info())\n",
    "#inspect why there are 5 columns other than is_person which have integer data type.\n",
    "ints=img_a_test.loc[:,img_a_test.dtypes=='int64'].head(3)\n",
    "display(ints)\n",
    "display(ints.columns) #to extract the column names\n",
    "#observed that these columns have integer values 0, test if there is any value other than 0 for one of those columns.\n",
    "display(img_a_test.loc[img_a_test['dim63']>0])"
   ]
  },
  {
   "cell_type": "markdown",
   "metadata": {},
   "source": [
    "<div align=\"right\"><font color=\"blue\" size=\"4\">2.0</font></div>"
   ]
  },
  {
   "cell_type": "markdown",
   "metadata": {},
   "source": [
    "(c) ***Your answer goes here:***\n",
    "The test dataset contains less (1113) images, but (of course) the same number of visual features (dims) and the 1 label (is_person).\n",
    "We notice that there is a slightly larger proportion (~47.3%, mean of is_person) of test images classified as containing a person.\n",
    "We also notice that there is **one extra non-useful visual word feature, namely dim63**, apart from the aforementioned 5 visual words which are similarly non-useful in determining *any class* for *any data point(image)* in the test dataset as in the training dataset."
   ]
  },
  {
   "cell_type": "markdown",
   "metadata": {},
   "source": [
    "<div align=\"right\"><font color=\"blue\" size=\"4\">3.0</font></div>"
   ]
  },
  {
   "cell_type": "markdown",
   "metadata": {},
   "source": [
    "### ========== Question 1.3 --- [5 marks] ==========\n",
    "\n",
    "We will now prepare the data for training.\n",
    "\n",
    "&nbsp;&nbsp;**(a)** [Code] Split both the training and testing sets into a matrix of features (independent) variables [X_tr/X_tst] and a vector of prediction (dependent) variables [y_tr/y_tst]. ***[Optional]*** *As a sanity check, you may wish to verify the dimensionality of the X/y variables*.<br>\n",
    "&nbsp;&nbsp;**(b)** [Code] Using seaborn's [countplot](https://seaborn.github.io/generated/seaborn.countplot.html?highlight=countplot#seaborn.countplot) function, visualise the distribution of the person-class (True/False) in the training and testing sets (use two figures or sub-plots). Annotate your figures.<br>\n",
    "&nbsp;&nbsp;**(c)** [Text] Do you envision any problems with the distribution under both sets? Would classification accuracy be a good metric for evaluating the performance of the classifiers? Why or why not?"
   ]
  },
  {
   "cell_type": "markdown",
   "metadata": {},
   "source": [
    "<div align=\"right\"><font color=\"blue\" size=\"4\">5.0/5.0</font></div>"
   ]
  },
  {
   "cell_type": "code",
   "execution_count": 6,
   "metadata": {},
   "outputs": [
    {
     "name": "stdout",
     "output_type": "stream",
     "text": [
      "X_tr  (2093, 500)\n",
      "X_tst  (1113, 500)\n",
      "y_tr  (2093,)\n",
      "y_tst  (1113,)\n"
     ]
    }
   ],
   "source": [
    "# (a) # Your Code goes here:\n",
    "X_tr=features_a_train\n",
    "X_tst=features_a_test\n",
    "y_tr=label_a_train\n",
    "y_tst=label_a_test\n",
    "print('X_tr ', X_tr.shape)\n",
    "print('X_tst ',X_tst.shape)\n",
    "print('y_tr ',y_tr.shape)\n",
    "print('y_tst ',y_tst.shape)"
   ]
  },
  {
   "cell_type": "markdown",
   "metadata": {},
   "source": [
    "<div align=\"right\"><font color=\"blue\" size=\"4\">1.0</font></div>"
   ]
  },
  {
   "cell_type": "code",
   "execution_count": 7,
   "metadata": {},
   "outputs": [
    {
     "data": {
      "text/plain": [
       "[[Text(0,0,'Not a Person'), Text(0,0,'Person')]]"
      ]
     },
     "execution_count": 7,
     "metadata": {},
     "output_type": "execute_result"
    },
    {
     "data": {
      "image/png": "[encoded data removed]",
      "text/plain": [
       "<Figure size 1800x1440 with 2 Axes>"
      ]
     },
     "metadata": {
      "needs_background": "light"
     },
     "output_type": "display_data"
    }
   ],
   "source": [
    "# (b) # Your Code goes here:\n",
    "fig,axes=plt.subplots(1,2, figsize=(25,20))\n",
    "axes[0].set_title('Training data label counts')\n",
    "axes[1].set_title('Test data label counts')\n",
    "train_count=sns.countplot(y_tr,ax=axes[0])\n",
    "train_count.set(xticklabels=['Not a Person','Person'])\n",
    "test_count=sns.countplot(y_tst,ax=axes[1],palette=['r','g'])\n",
    "test_count.set(xticklabels=['Not a Person','Person'])"
   ]
  },
  {
   "cell_type": "markdown",
   "metadata": {},
   "source": [
    "<div align=\"right\"><font color=\"blue\" size=\"4\">2.0</font></div>"
   ]
  },
  {
   "cell_type": "markdown",
   "metadata": {},
   "source": [
    "(c) ***Your answer goes here:***\n",
    "The data is **unbalanced** in both *train* and *test* sets towards the zero value, giving the \"majority\" class to an image **not** being a person. \n",
    "This can affect many classifiers which give more weight to the majority class as a better prediction (e.g. Naive Bayes, Decision Trees), producing a **lower** *classification accuracy*. \n",
    "However, the class is **not heavily unbalanced**, so we could argue that if we used another metric rather than *accuracy* (e.g. confusion matrix, precision , recall, miss rate etc.) we could have a better indication of our classifiers' performances. \n",
    "\n",
    "N.B. This answer refers to the specific task of binary classification for the **single class is_person** problem. Dealing with the ***multiple class problem*** would yield a very different answer for this distribution of data."
   ]
  },
  {
   "cell_type": "markdown",
   "metadata": {},
   "source": [
    "<div align=\"right\"><font color=\"blue\" size=\"4\">2.0</font></div>"
   ]
  },
  {
   "cell_type": "markdown",
   "metadata": {},
   "source": [
    "## 2. Exploring Different Models for Classification"
   ]
  },
  {
   "cell_type": "markdown",
   "metadata": {},
   "source": [
    "### ========== Question 2.1 --- [3 marks] ==========\n",
    "\n",
    "As always, we wish to start with a very simple baseline classifier, which will provide a sanity check when training more advanced models.\n",
    "\n",
    "&nbsp;&nbsp;**(a)** [Text] Define a baseline classifier (indicate why you chose it/why it is relevant).<br>\n",
    "&nbsp;&nbsp;**(b)** [Code] Report the accuracy such a classifier would achieve on the testing set."
   ]
  },
  {
   "cell_type": "markdown",
   "metadata": {},
   "source": [
    "<div align=\"right\"><font color=\"blue\" size=\"4\">3.0/3.0</font></div>"
   ]
  },
  {
   "cell_type": "markdown",
   "metadata": {},
   "source": [
    "(a) ***Your answer goes here:***\n",
    "A relevant baseline to choose is to only consider the majority class value from our training (coincidently also test) data, for the reason of explotining the imbalance between the two values as explained in 1.3. This baseline will not produce a great accuracy score, but will be a good base performance comparison for our subsequent classifiers."
   ]
  },
  {
   "cell_type": "markdown",
   "metadata": {},
   "source": [
    "<div align=\"right\"><font color=\"blue\" size=\"4\">2.0</font></div>"
   ]
  },
  {
   "cell_type": "code",
   "execution_count": 8,
   "metadata": {},
   "outputs": [
    {
     "name": "stdout",
     "output_type": "stream",
     "text": [
      "baseline accuracy on test data =  0.5265\n"
     ]
    }
   ],
   "source": [
    "# (b) # Your Code goes here:\n",
    "y_base=np.zeros(y_tst.size) #choosing the majority value (zeros) with the size of the testing set target\n",
    "print('baseline accuracy on test data = ',round(accuracy_score(y_true=y_tst,y_pred=y_base),4))"
   ]
  },
  {
   "cell_type": "markdown",
   "metadata": {},
   "source": [
    "<div align=\"right\"><font color=\"blue\" size=\"4\">1.0</font></div>"
   ]
  },
  {
   "cell_type": "markdown",
   "metadata": {},
   "source": [
    "### ========== Question 2.2 --- [9 marks] ==========\n",
    "<a id='question2_2'></a>\n",
    "Let us now train a more advanced Model.\n",
    "\n",
    "&nbsp;&nbsp;**(a)** [Code] Train a [`LogisticRegression`](http://scikit-learn.org/0.19/modules/generated/sklearn.linear_model.LogisticRegression.html) classifier using default settings, except for the `solver` parameter which you should set to `lbfgs`. Report the classification accuracy score on the testing set.<br>\n",
    "&nbsp;&nbsp;**(b)** [Text] Comment on the performance of the Logistic Regressor in comparison with the baseline model.<br>\n",
    "&nbsp;&nbsp;**(c)** [Code] Visualise the errors using an appropriate method to justify your answer to (b).<br>\n",
    "&nbsp;&nbsp;**(d)** [Text] Referring back to the observations in [Q1.1](#question1_1), and assuming that we know that the features should be informative, why do you think this may be happening?<br>"
   ]
  },
  {
   "cell_type": "markdown",
   "metadata": {},
   "source": [
    "<div align=\"right\"><font color=\"blue\" size=\"4\">7.0/9.0</font></div>"
   ]
  },
  {
   "cell_type": "code",
   "execution_count": 9,
   "metadata": {},
   "outputs": [
    {
     "name": "stdout",
     "output_type": "stream",
     "text": [
      "logistic regressor accuracy on test data =  0.5265\n"
     ]
    }
   ],
   "source": [
    "# (a) # Your Code goes here:\n",
    "logistic=LogisticRegression(solver='lbfgs')\n",
    "logistic.fit(X_tr,y_tr)\n",
    "print('logistic regressor accuracy on test data = ',round(logistic.score(X=X_tst,y=y_tst),4))"
   ]
  },
  {
   "cell_type": "markdown",
   "metadata": {},
   "source": [
    "<div align=\"right\"><font color=\"blue\" size=\"4\">2.0</font></div>"
   ]
  },
  {
   "cell_type": "markdown",
   "metadata": {},
   "source": [
    "(b) ***Your answer goes here:***\n",
    "The logistic regressor gets the same classification accuracy(1-error) as the baseline (majority/mode class) classifier."
   ]
  },
  {
   "cell_type": "markdown",
   "metadata": {},
   "source": [
    "<div align=\"right\"><font color=\"blue\" size=\"4\">1.0</font></div>"
   ]
  },
  {
   "cell_type": "code",
   "execution_count": 10,
   "metadata": {},
   "outputs": [
    {
     "data": {
      "text/plain": [
       "<matplotlib.legend.Legend at 0x13d9d99e550>"
      ]
     },
     "execution_count": 10,
     "metadata": {},
     "output_type": "execute_result"
    },
    {
     "data": {
      "image/png": "[encoded data removed]",
      "text/plain": [
       "<Figure size 432x288 with 1 Axes>"
      ]
     },
     "metadata": {
      "needs_background": "light"
     },
     "output_type": "display_data"
    }
   ],
   "source": [
    "# (c) # Your Code goes here:\n",
    "plt.hist(np.abs(logistic.predict(X_tst)-y_tst),bins=5,color='r')\n",
    "plt.hist(np.abs(y_base-y_tst),bins=3,color='y',alpha=0.5)\n",
    "plt.xlabel('Residual of model with true test prices (error absolute value)')\n",
    "plt.ylabel('Count of Error points')\n",
    "plt.legend(['logistic regressor','baseline'])"
   ]
  },
  {
   "cell_type": "markdown",
   "metadata": {},
   "source": [
    "<div align=\"right\"><font color=\"blue\" size=\"4\">3.0</font></div>"
   ]
  },
  {
   "cell_type": "markdown",
   "metadata": {},
   "source": [
    "(d) ***Your answer goes here:***\n",
    "The \"dim\" features that were observed in Q1.1.c act harmfully as **outliers** in the logistic regressor, causing the whole model to change at a significant level because of them and failing to capture the correct pattern of the features in the training set. These features [dim72, dim91, dim140, dim293 and dim374] in the training set and the *same features + **dim63*** in the testing set cause the mean to be biased and hence the whole model is erroneous as logistic regression is one of the models which is affected by outliers (which alter mean and scale)."
   ]
  },
  {
   "cell_type": "markdown",
   "metadata": {},
   "source": [
    "<div align=\"right\"><font color=\"blue\" size=\"4\">1.0</font></div>"
   ]
  },
  {
   "cell_type": "markdown",
   "metadata": {},
   "source": [
    "### ========== Question 2.3 --- [13 marks] ==========\n",
    "\n",
    "You should have noticed that the performance of the above logistic regressor is less than satisfactory. Let us attempt to fix this by preprocessing the inputs `X`.\n",
    "\n",
    "&nbsp;&nbsp;**(a)** [Text] Before applying the processing, comment on whether you should base any parameters of the preprocessing on the training or testing set or both and what repurcussions this may have.<br>\n",
    "&nbsp;&nbsp;**(b)** [Code] Following from your observations in [Q2.2.(d)](#question2_2), process the features in both the **training** as well as the **testing** sets accordingly. *Hint: There is an sklearn [package](http://scikit-learn.org/0.19/modules/preprocessing.html) which may be very useful.* <br>\n",
    "&nbsp;&nbsp;**(c)** [Code] Now Train a Logistic Regressor on the transformed training set, keeping the same settings as in the previous question. Report the classification accuracy on the testing set and visualise the errors in a similar way to [Q2.2(c)](#question2_2). <br>\n",
    "&nbsp;&nbsp;**(d)** [Text] Finally comment on the comparative performance with [Q2.2](#question2_2)."
   ]
  },
  {
   "cell_type": "markdown",
   "metadata": {},
   "source": [
    "<div align=\"right\"><font color=\"blue\" size=\"4\">12.0/13.0</font></div>"
   ]
  },
  {
   "cell_type": "markdown",
   "metadata": {},
   "source": [
    "(a) ***Your answer goes here:***\n",
    "The best solution would be to base/fit the parameters *solely to the training set*. The following text describes the reasons behind my answer.\n",
    "\n",
    "If we base the parameters of preprocessing *solely* on the training data, this means that we will train the regressor(or any other desired classifier/regressor) on correctly distributed data. We know by observation that the testing data is distributed similarly (with the exception of `dim63`) to the training set.\n",
    "\n",
    "If we base the parameters of preprocessing on the testing set *solely* instead, then we will have a well-formulated testing set, but we will have **wrongly trained/learned** our regressor on *erroneous training* data, even if we rescale it.\n",
    "\n",
    "If we  base the parameters of preprocessing to *both* sets, this is also not a great solution, as it will use testing data as if we knew that we would face such a distribution, which defeats the purpose of having **unknown** test data to test the *performance* of the regressor/any model. \n",
    "\n",
    "This reminds of a more generalized common problem in ML, which is that we adjust our learning and predicting of the regressor to current/present data, whereas we cannot **face future data which might alter the distribution by accident or by choice** (this is a common problem as we do not know the p(y|x_new) and hence can only provide an *estimate* of the ***true future error rate***"
   ]
  },
  {
   "cell_type": "markdown",
   "metadata": {},
   "source": [
    "<div align=\"right\"><font color=\"blue\" size=\"4\">2.0</font></div>"
   ]
  },
  {
   "cell_type": "code",
   "execution_count": 11,
   "metadata": {},
   "outputs": [],
   "source": [
    "# (b) # Your Code goes here:\n",
    "scaler=RobustScaler().fit(X_tr) #Used RobustScaler to not be affected by outliers (uses median & IQR instead of mean & s.d.)\n",
    "X_tr_scaled=scaler.transform(X_tr)\n",
    "X_tst_scaled=scaler.transform(X_tst)"
   ]
  },
  {
   "cell_type": "markdown",
   "metadata": {},
   "source": [
    "<div align=\"right\"><font color=\"blue\" size=\"4\">5.0</font></div>"
   ]
  },
  {
   "cell_type": "code",
   "execution_count": 12,
   "metadata": {},
   "outputs": [
    {
     "name": "stdout",
     "output_type": "stream",
     "text": [
      "logistic regressor accuracy on TRANSFORMED test data =  0.6496\n"
     ]
    },
    {
     "data": {
      "text/plain": [
       "<matplotlib.legend.Legend at 0x13d9e887710>"
      ]
     },
     "execution_count": 12,
     "metadata": {},
     "output_type": "execute_result"
    },
    {
     "data": {
      "image/png": "[encoded data removed]",
      "text/plain": [
       "<Figure size 432x288 with 1 Axes>"
      ]
     },
     "metadata": {
      "needs_background": "light"
     },
     "output_type": "display_data"
    }
   ],
   "source": [
    "# (c) # Your Code goes here:\n",
    "logistic_scaled=LogisticRegression(solver='lbfgs')\n",
    "logistic_scaled.fit(X_tr_scaled,y=y_tr)\n",
    "print('logistic regressor accuracy on TRANSFORMED test data = ',\n",
    "      round(logistic.score(X=X_tst_scaled,y=y_tst),4))\n",
    "plt.hist(np.abs(logistic.predict(X_tst)-y_tst),bins=3,color='r')\n",
    "plt.hist(np.abs(y_base-y_tst),bins=4,color='b',alpha=0.5)\n",
    "plt.hist(np.abs(logistic_scaled.predict(X_tst_scaled)-y_tst),bins=7,color='g')\n",
    "plt.xlabel('Residual of model with true test prices (error absolute value)')\n",
    "plt.ylabel('Count of Error points')\n",
    "plt.legend(['logistic regressor','baseline','logistic regressor on transformed data'])"
   ]
  },
  {
   "cell_type": "markdown",
   "metadata": {},
   "source": [
    "<div align=\"right\"><font color=\"blue\" size=\"4\">4.0</font></div>"
   ]
  },
  {
   "cell_type": "markdown",
   "metadata": {},
   "source": [
    "(d) ***Your answer goes here:***\n",
    "The performance of the new logistic regressor trained on the transformed data and predicting on the transformed testing data has **~12.3%** higher performance(accuracy, less error) than the baseline and previous logistic regressor(not transformed data). This is a good increase but still not as satisfactory and significant as expected."
   ]
  },
  {
   "cell_type": "markdown",
   "metadata": {},
   "source": [
    "<div align=\"right\"><font color=\"blue\" size=\"4\">1.0</font></div>"
   ]
  },
  {
   "cell_type": "markdown",
   "metadata": {},
   "source": [
    "### ========== Question 2.4 --- [18 marks] ==========\n",
    "<a id='question2_4'></a>\n",
    "So far we have used default settings for training the logistic regression classifier. Now we want to optimise the hyperparameters of the classifier, namely the regularisation parameter `C`. We will do this through [K-fold cross-validation](http://scikit-learn.org/0.19/modules/generated/sklearn.model_selection.KFold.html). You should familiarise yourself with the interpretation of the `C` parameter.\n",
    "\n",
    "&nbsp;&nbsp;**(a)** [Text] Why do we use cross-validation to optimise the hyper-parameters, rather than using the test-set?<br>\n",
    "&nbsp;&nbsp;**(b)** [Code] Load the datasets `Images_B_Train.csv` and `Images_B_Test.csv` (this ensures everyone is using the same pre-processed data). Again, extract the relevant columns (`dim1` through `dim500` and the `is_person` class) from each dataset, and store into `X_train`/`X_test` and `y_train`/`y_test` variables.<br>\n",
    "&nbsp;&nbsp;**(c)** [Code] Using Cross-Validation on the **Training** set (a 5-fold split should be sufficient: set `shuffle=True` and `random_state=0`), perform a search for the best value of `C` in the range `1e-5` to `1e5` (*Hint: the KFold [split](http://scikit-learn.org/0.19/modules/generated/sklearn.model_selection.KFold.html#sklearn.model_selection.KFold.split) method will come in handy*). Keep track of the validation-set accuracy per-fold for each value of `C` in an array. Think carefully about the best way to cover the search space: i.e. the step-lengths and number of steps.<br>\n",
    "&nbsp;&nbsp;**(d)** [Code] Plot the mean and standard-deviation (across folds) of the accuracy as a function of `C`. *Hint: you may find the matplotlib's [errorbar](https://matplotlib.org/2.2.3/api/_as_gen/matplotlib.pyplot.errorbar.html) function useful. Be careful to use the correct scale on the x-axis.* Using the mean values, report the regularisation parameter with the best accuracy (alongside its accuracy): *N.B. Do not pick the optimal value \"by hand\", instead use an appropriate numpy function*.<br>\n",
    "&nbsp;&nbsp;**(e)** [Text] Comment on the output, especially as regards the effect of the regularisation parameter (you should write between 3 and 4 sentences).<br>\n",
    "&nbsp;&nbsp;**(f)** [Code] By using the optimal value (i.e. the one that yields the highest average K-Fold classification accuracy) train a new `LogisticRegression` classifier and report the classification accuracy on the validation set.\n",
    "\n",
    "**N.B.: Keep track of the KFold object you created as we will keep using it**"
   ]
  },
  {
   "cell_type": "markdown",
   "metadata": {},
   "source": [
    "<div align=\"right\"><font color=\"blue\" size=\"4\">17.0/18.0</font></div>"
   ]
  },
  {
   "cell_type": "markdown",
   "metadata": {},
   "source": [
    "(a) ***Your answer goes here:***\n",
    "If we use the testing set to optimize the hyper-parameters, we will not have any **real testing** data to test our optimized regressor. We use cross-validation to capture the best instance trends and optimize our hyper-parameters (in this case `C`) and then *test* the performance on the *test-set*.\n",
    "Most importantly, we need to use cross-validation to have more and different splittings of the data in order to confirm the reliability of the model in different distributions of the data."
   ]
  },
  {
   "cell_type": "markdown",
   "metadata": {},
   "source": [
    "<div align=\"right\"><font color=\"blue\" size=\"4\">1.0</font></div>"
   ]
  },
  {
   "cell_type": "code",
   "execution_count": 13,
   "metadata": {},
   "outputs": [],
   "source": [
    "# (b) # Your Code goes here:\n",
    "b_train_loc = os.path.join(os.getcwd(), 'datasets', 'Images_B_Train.csv')\n",
    "img_b_train=pd.read_csv(b_train_loc)\n",
    "label_b_train=img_b_train['is_person'] #selecting only the is_person class label from our dataset.\n",
    "features_b_train=img_b_train.loc[:,'dim1':'dim500'] #selecting only the visual features from our dataset.\n",
    "img_b_train=pd.concat([features_b_train,label_b_train],axis=1)#merging the visual features with the is_person class label.\n",
    "\n",
    "#Similarly for the testing set\n",
    "b_test_loc = os.path.join(os.getcwd(), 'datasets', 'Images_B_Test.csv')\n",
    "img_b_test=pd.read_csv(b_test_loc)\n",
    "label_b_test=img_b_test['is_person'] \n",
    "features_b_test=img_b_test.loc[:,'dim1':'dim500'] \n",
    "img_b_test=pd.concat([features_b_test,label_b_test],axis=1)\n",
    "\n",
    "#Load sets into specified variables\n",
    "X_train=features_b_train\n",
    "X_test=features_b_test\n",
    "y_train=label_b_train\n",
    "y_test=label_b_test"
   ]
  },
  {
   "cell_type": "markdown",
   "metadata": {},
   "source": [
    "<div align=\"right\"><font color=\"blue\" size=\"4\">2.0</font></div>"
   ]
  },
  {
   "cell_type": "code",
   "execution_count": 14,
   "metadata": {},
   "outputs": [
    {
     "name": "stdout",
     "output_type": "stream",
     "text": [
      "Accuracies for fold  1  for the 11 values of C in the range 1E-5 to 1E5:  \n",
      "[0.56563246 0.66825776 0.67303103 0.66825776 0.65871122 0.64200477\n",
      " 0.64439141 0.64439141 0.64439141 0.64439141 0.64439141]\n",
      "\n",
      "Accuracies for fold  2  for the 11 values of C in the range 1E-5 to 1E5:  \n",
      "[0.61336516 0.6849642  0.74224344 0.71360382 0.65871122 0.64200477\n",
      " 0.6372315  0.63484487 0.6372315  0.6372315  0.6372315 ]\n",
      "\n",
      "Accuracies for fold  3  for the 11 values of C in the range 1E-5 to 1E5:  \n",
      "[0.54653938 0.70405728 0.73031026 0.69451074 0.65155131 0.6300716\n",
      " 0.62052506 0.61813842 0.62052506 0.62052506 0.61813842]\n",
      "\n",
      "Accuracies for fold  4  for the 11 values of C in the range 1E-5 to 1E5:  \n",
      "[0.52870813 0.6507177  0.6937799  0.69617225 0.68181818 0.6722488\n",
      " 0.66267943 0.66267943 0.66267943 0.66267943 0.66267943]\n",
      "\n",
      "Accuracies for fold  5  for the 11 values of C in the range 1E-5 to 1E5:  \n",
      "[0.55980861 0.63636364 0.65789474 0.66985646 0.65550239 0.64832536\n",
      " 0.6507177  0.64593301 0.64832536 0.64832536 0.6507177 ]\n",
      "\n",
      "The whole array of accuracies:\n",
      "[[0.56563246 0.66825776 0.67303103 0.66825776 0.65871122 0.64200477\n",
      "  0.64439141 0.64439141 0.64439141 0.64439141 0.64439141]\n",
      " [0.61336516 0.6849642  0.74224344 0.71360382 0.65871122 0.64200477\n",
      "  0.6372315  0.63484487 0.6372315  0.6372315  0.6372315 ]\n",
      " [0.54653938 0.70405728 0.73031026 0.69451074 0.65155131 0.6300716\n",
      "  0.62052506 0.61813842 0.62052506 0.62052506 0.61813842]\n",
      " [0.52870813 0.6507177  0.6937799  0.69617225 0.68181818 0.6722488\n",
      "  0.66267943 0.66267943 0.66267943 0.66267943 0.66267943]\n",
      " [0.55980861 0.63636364 0.65789474 0.66985646 0.65550239 0.64832536\n",
      "  0.6507177  0.64593301 0.64832536 0.64832536 0.6507177 ]]\n"
     ]
    }
   ],
   "source": [
    "# (c) # Your Code goes here:\n",
    "kfold=sklearn.model_selection.KFold(n_splits=5,shuffle=True,random_state=0)\n",
    "\n",
    "accuracies = np.ndarray((5,11))     #I use a 2d_array to store the accuracies for each kfold-C value pair\n",
    "fold_i = 0 #this will be the first dimension for the accuracies array, indicating which fold we're in.\n",
    "for train_indices, test_indices in kfold.split(X_train): #iterate on all pairs of train-test sets/splits of X_train\n",
    "    \n",
    "    C_i= 0 #this will be the second dimension of the accuracies array, indicating which C-value we're testing.\n",
    "    \n",
    "    #used logspace with base 10 to cover the range (1E-5 to 1E5) with 11 samples/steps which is suitable to have a\n",
    "    # geometric split (log-range(=11, -5 to 5).\n",
    "    for Ctemp in np.logspace(start=-5, stop=5, num=11):\n",
    "        \n",
    "        #use the current value of C as a setting for a temporary logistic regressor\n",
    "        logistic_temp = LogisticRegression(solver=\"lbfgs\", C=Ctemp)\n",
    "        #use the train indices from kfold.split to train the temp logistic regressor on the \"training set\"\n",
    "        logistic_temp.fit(X=X_train.iloc[train_indices], y=y_train.iloc[train_indices]) \n",
    "        \n",
    "        #use the test indices from kfold.split to test the temp logistic regressor on the \"testing set\"\n",
    "        #and populate the accuracies array with the accuracy score for that specific fold-Cvalue entry\n",
    "        accuracies[fold_i, C_i] = logistic_temp.score(X=X_train.iloc[test_indices], y=y_train.iloc[test_indices])\n",
    "\n",
    "        C_i=C_i+1 # move to the next C-value position (inner dimension in the accuracies array).\n",
    "    print(\"Accuracies for fold \",fold_i+1, \" for the 11 values of C in the range 1E-5 to 1E5:  \")\n",
    "    print(accuracies[fold_i])\n",
    "    print()\n",
    "    fold_i=fold_i+1#when all C-values are done for one dimension, move to the next fold position in the array(outer dimension)\n",
    "print(\"The whole array of accuracies:\")\n",
    "print(accuracies) "
   ]
  },
  {
   "cell_type": "markdown",
   "metadata": {},
   "source": [
    "<div align=\"right\"><font color=\"blue\" size=\"4\">6.0</font></div>"
   ]
  },
  {
   "cell_type": "code",
   "execution_count": 16,
   "metadata": {},
   "outputs": [
    {
     "data": {
      "image/png": "[encoded data removed]",
      "text/plain": [
       "<Figure size 432x288 with 1 Axes>"
      ]
     },
     "metadata": {
      "needs_background": "light"
     },
     "output_type": "display_data"
    },
    {
     "name": "stdout",
     "output_type": "stream",
     "text": [
      "Optimal C value:  0.0010000\n",
      "Optimal C value corresponding average k-fold classification accuracy:   0.699\n"
     ]
    }
   ],
   "source": [
    "# (d) # Your Code goes here:\n",
    "means = np.mean(accuracies, axis=0) #calculate the means of each C VALUE (hence use axis=0), \n",
    "#since we want the plot as a function of C (accross folds)\n",
    "stds=np.std(accuracies,axis=0)\n",
    "Crange = np.logspace(start=-5, stop=5, num=11) #use the range of the C values as the x-axis\n",
    "plt.errorbar(x=Crange, y=means,yerr=stds) #use mean accuracies per fold as y axis and standard deviations as errors in errorbar.\n",
    "plt.semilogx() #setting the correct scale to the x-axis to match the range (logspace)\n",
    "plt.xlabel(\"C - Regularisation Parameter in log-scale\")\n",
    "plt.ylabel(\"Accuracy of Regressor with that C\")\n",
    "plt.title(\"Mean accuracies of Logistic Regressor for Regularisation parameter C values\")\n",
    "plt.show()\n",
    "\n",
    "\n",
    "#used np function where (as asked for a suitable np function)\n",
    "#to find the position of the max mean accuracy and use it to extract the C value from the range of C values using the index.\n",
    "C_optimal = Crange[np.where(means==means.max())[0][0]] #note we use [0][0] to deal with the 2d output format of where.\n",
    "\n",
    "\n",
    "print (\"Optimal C value: \", \"%0.7f\" %C_optimal) #print formatted to 7 d.p. the optimal C parameter\n",
    "print (\"Optimal C value corresponding average k-fold classification accuracy:  \", round(means.max(),3))\n"
   ]
  },
  {
   "cell_type": "markdown",
   "metadata": {},
   "source": [
    "<div align=\"right\"><font color=\"blue\" size=\"4\">5.0</font></div>"
   ]
  },
  {
   "cell_type": "markdown",
   "metadata": {},
   "source": [
    "(e) ***Your answer goes here:***\n",
    "We can see that the regularization parameter plays a huge role on the classification accuracy of the cross validation (and not only).\n",
    "We see that depending on the value varying for the C-parameter(along with different folds), we had result accuracies ranging **from ~53% up to ~75%**. This indicates that it is very important to adjust the regularization parameter in order to increase our model's accuracy on our data.\n",
    "We can also observe from the errorbar plot that the regularization parameter does not follow a symmetric or any predictable distribution, but its *means **and** errors(stds)* vary in different values along the range (logspace) that we specified.  "
   ]
  },
  {
   "cell_type": "markdown",
   "metadata": {},
   "source": [
    "<div align=\"right\"><font color=\"blue\" size=\"4\">2.0</font></div>"
   ]
  },
  {
   "cell_type": "code",
   "execution_count": 19,
   "metadata": {},
   "outputs": [
    {
     "name": "stdout",
     "output_type": "stream",
     "text": [
      "Optimal logistic regressor accuracy on test data =  0.699\n"
     ]
    }
   ],
   "source": [
    "# (f) # Your Code goes here:\n",
    "#train a final optimal logistic regressor using the previous settings but with C_optimal as the parameter.\n",
    "logistic_optimal = LogisticRegression(solver=\"lbfgs\", C=C_optimal).fit(X=X_train, y=y_train)\n",
    "print (\"Optimal logistic regressor accuracy on test data = \", round(logistic_optimal.score(X=X_test, y=y_test),3))"
   ]
  },
  {
   "cell_type": "markdown",
   "metadata": {},
   "source": [
    "<div align=\"right\"><font color=\"blue\" size=\"4\">1.0</font></div>"
   ]
  },
  {
   "cell_type": "markdown",
   "metadata": {},
   "source": [
    "### ========== Question 2.5 --- (LEVEL 11) --- [12 marks] ==========\n",
    "\n",
    "Let us attempt to validate the importance of the various features for classification. We could do this like we did for linear regression by looking at the magnitude of the weights. However, in this case, we will use the [`RandomForestClassifier`](http://scikit-learn.org/0.19/modules/generated/sklearn.ensemble.RandomForestClassifier.html) to give us a ranking over features.\n",
    "\n",
    "&nbsp;&nbsp;**(a)** [Text] How can we use the Random-Forest to get this kind of analysis? *Hint: look at the `feature_importances` property in the SKLearn implementation.*<br>\n",
    "&nbsp;&nbsp;**(b)** [Code] Initialise a random forest classifier and fit the model by using training data only and 500 trees (i.e. `n_estimators=500`). Set `random_state=42` to ensure reproducible results and `criterion=entropy` but leave all other parameters at their default value. Report the accuracy score on both the training and testing sets.<br>\n",
    "&nbsp;&nbsp;**(c)** [Text] Comment on the discrepancy between training and testing accuracies.<br>\n",
    "&nbsp;&nbsp;**(d)** [Code] By using the random forest model display the names of the 10 most important features (in descending order of importance).<br>\n"
   ]
  },
  {
   "cell_type": "markdown",
   "metadata": {},
   "source": [
    "(a) ***Your answer goes here:***"
   ]
  },
  {
   "cell_type": "code",
   "execution_count": 18,
   "metadata": {},
   "outputs": [],
   "source": [
    "# (b) # Your Code goes here:"
   ]
  },
  {
   "cell_type": "markdown",
   "metadata": {},
   "source": [
    "(c) ***Your answer goes here:***"
   ]
  },
  {
   "cell_type": "code",
   "execution_count": 19,
   "metadata": {},
   "outputs": [],
   "source": [
    "# (d) # Your Code goes here:"
   ]
  },
  {
   "cell_type": "markdown",
   "metadata": {},
   "source": [
    "### ========== Question 2.6 --- [12 marks] ==========\n",
    "\n",
    "We would like now to explore another form of classifier: the Support Vector Machine. A key decision in training SVM's is what kind of kernel to use. We will explore with three kernel types: linear, radial-basis-functions and polynomials. To get a feel for each we will first visualise typical decision boundaries for each of these variants. To do so, we have to simplify our problem to two-dimensional input (to allow us to visualise it).\n",
    "\n",
    "&nbsp;&nbsp;**(a)** [Code] Using the training set only, create a training `X` matrix with only the `dim21` and `dim51` columns. ***N.B.*** *Python (and numpy) use zero-based indexing*. Then train three distinct classifiers on this 2D data. Use a `linear` kernel for one, an `rbf` kernel for another (set `gamma='auto'`) and a second order (`degree`) polynomial kernel for the other. Set `C=1` in all cases. Using the function `plot_SVM_DecisionBoundary` from our own library (it exists under the `plotters` module), plot the decision boundary for all three classifiers.<br>\n",
    "&nbsp;&nbsp;**(b)** [Text] Explain (intuitively) the shape of the decision boundary for each classifier (i.e. comment on what aspect of the kernel gives rise to it). Use this to comment on how it relates to classification accuracy."
   ]
  },
  {
   "cell_type": "markdown",
   "metadata": {},
   "source": [
    "<div align=\"right\"><font color=\"blue\" size=\"4\">11.0/12.0</font></div>"
   ]
  },
  {
   "cell_type": "code",
   "execution_count": 20,
   "metadata": {},
   "outputs": [
    {
     "data": {
      "image/png": "[encoded data removed]",
      "text/plain": [
       "<Figure size 1080x360 with 3 Axes>"
      ]
     },
     "metadata": {},
     "output_type": "display_data"
    }
   ],
   "source": [
    "# (a) # Your Code goes here:\n",
    "dim21=(X_train['dim21'])\n",
    "dim51=(X_train['dim51'])\n",
    "X=pd.concat([dim21,dim51],axis=1)\n",
    "X=X.values\n",
    "svc_linear = SVC(kernel=\"linear\",C=1)\n",
    "svc_linear.fit(X=X, y=y_train)\n",
    "svc_rbf = SVC(kernel=\"rbf\",gamma='auto',C=1)\n",
    "svc_rbf.fit(X=X, y=y_train)\n",
    "svc_polynomial = SVC(kernel=\"poly\",degree=2,C=1)\n",
    "svc_polynomial.fit(X=X, y=y_train)\n",
    "clfs=[svc_linear,svc_rbf,svc_polynomial]\n",
    "plotter.plot_SVM_DecisionBoundary(X=X,y=y_train,clfs=clfs,labels=['dim21','dim51'],title=['Linear','Radial Basis Function','2nd Ord. Polynomial'])"
   ]
  },
  {
   "cell_type": "markdown",
   "metadata": {},
   "source": [
    "<div align=\"right\"><font color=\"blue\" size=\"4\">5.0</font></div>"
   ]
  },
  {
   "cell_type": "markdown",
   "metadata": {},
   "source": [
    "(b) ***Your answer goes here:***\n",
    "The decision boundary for the linear-kernel (first) Support Vector Classifier is ***linear (a line)***, whereas for the Radial Basis Function (second) and 2nd order polynomial(third) SVCs, the *decision boundaries* **correspond** to the *kernel function type* (determined by **ε** in the rbf and being **2nd order/quadratic** in the poly SVC respectively).\n",
    "\n",
    "We observe that the more flexible the decision boundary is, the better the data is classified/separated. This is due to the data not being ***linearly separable***, which will make the linear SVC(first) less accurate (lower accuracy score) than the other SVCs. \n",
    "\n",
    "It seems that the 2nd order polynomial doesn't capture/separate correctly the red(negative probably, is_person=0) data points *as well as* the rbf SVC. This is not definite from the visualization and should be checked with the accuracies."
   ]
  },
  {
   "cell_type": "markdown",
   "metadata": {},
   "source": [
    "<div align=\"right\"><font color=\"blue\" size=\"4\">6.0</font></div>"
   ]
  },
  {
   "cell_type": "markdown",
   "metadata": {},
   "source": [
    "### ========== Question 2.7 --- [14 marks] ==========\n",
    "Let us now explore the polynomial SVM further. We will go back to using the **FULL** dataset (i.e. the one we loaded in [Question 2.4](#question2_4)). There are two parameters we need to tune: the order of the polynomial and the regression coefficient. We will do this by way of a grid-search over parameters. To save computational time, we will use a constrained search space:\n",
    "\n",
    "&nbsp;&nbsp;**(a)** [Code] Define an appropriate search space for `C` in the range `1e-2` to `1e3` using 6-steps (think about the step-size), and for the `degree` in the range 1 through 5 inclusive (5 steps). Using the `K-fold` iterator from [Q2.5](#question2_4), optimise the values for `C` and the `degree` in the above specified range. Keep track of the mean cross-validation accuracy for each parameter combination.<br>\n",
    "&nbsp;&nbsp;**(b)** [Code] Using a seaborn heatmap, plot the fold-averaged classification accuracy for each parameter combination (label axes appropriately). Finally also report the combination of the parameters which yielded the best accuracy.<br>\n",
    "&nbsp;&nbsp;**(c)** [Code] Retrain the (polynomial-kernel) SVC using the optimal parameters found in **(b)** and report its accuracy on the **Testing** set.<br>\n",
    "&nbsp;&nbsp;**(d)** [Text] Explain the results relative to the Logistic Classifier."
   ]
  },
  {
   "cell_type": "markdown",
   "metadata": {},
   "source": [
    "<div align=\"right\"><font color=\"blue\" size=\"4\">14.0/14.0</font></div>"
   ]
  },
  {
   "cell_type": "code",
   "execution_count": 136,
   "metadata": {},
   "outputs": [
    {
     "name": "stdout",
     "output_type": "stream",
     "text": [
      "Accuracies for fold  1 :  \n",
      "Accuracies for C value=  0.01  for the 5 polynomial degrees:  \n",
      "[0.55608592 0.55131265 0.55131265 0.55131265 0.55131265]\n",
      "Accuracies for C value=  0.1  for the 5 polynomial degrees:  \n",
      "[0.65632458 0.56801909 0.56085919 0.55369928 0.55369928]\n",
      "Accuracies for C value=  1.0  for the 5 polynomial degrees:  \n",
      "[0.65393795 0.68735084 0.67541766 0.66587112 0.62768496]\n",
      "Accuracies for C value=  10.0  for the 5 polynomial degrees:  \n",
      "[0.65871122 0.67064439 0.64200477 0.6300716  0.57279236]\n",
      "Accuracies for C value=  100.0  for the 5 polynomial degrees:  \n",
      "[0.62768496 0.67064439 0.63961814 0.63245823 0.57040573]\n",
      "Accuracies for C value=  1000.0  for the 5 polynomial degrees:  \n",
      "[0.62291169 0.67064439 0.63961814 0.63245823 0.57040573]\n",
      "\n",
      "Accuracies for fold  2 :  \n",
      "Accuracies for C value=  0.01  for the 5 polynomial degrees:  \n",
      "[0.58949881 0.58472554 0.58472554 0.58472554 0.58472554]\n",
      "Accuracies for C value=  0.1  for the 5 polynomial degrees:  \n",
      "[0.70644391 0.61336516 0.60143198 0.59188544 0.58949881]\n",
      "Accuracies for C value=  1.0  for the 5 polynomial degrees:  \n",
      "[0.73508353 0.67303103 0.68257757 0.59665871 0.5823389 ]\n",
      "Accuracies for C value=  10.0  for the 5 polynomial degrees:  \n",
      "[0.68973747 0.67541766 0.69451074 0.60620525 0.55847255]\n",
      "Accuracies for C value=  100.0  for the 5 polynomial degrees:  \n",
      "[0.64916468 0.67541766 0.69212411 0.60381862 0.57040573]\n",
      "Accuracies for C value=  1000.0  for the 5 polynomial degrees:  \n",
      "[0.63961814 0.67541766 0.69212411 0.60381862 0.57040573]\n",
      "\n",
      "Accuracies for fold  3 :  \n",
      "Accuracies for C value=  0.01  for the 5 polynomial degrees:  \n",
      "[0.53699284 0.53699284 0.53699284 0.53699284 0.53699284]\n",
      "Accuracies for C value=  0.1  for the 5 polynomial degrees:  \n",
      "[0.7326969  0.55608592 0.54415274 0.54415274 0.54176611]\n",
      "Accuracies for C value=  1.0  for the 5 polynomial degrees:  \n",
      "[0.71837709 0.6778043  0.71837709 0.60859189 0.57279236]\n",
      "Accuracies for C value=  10.0  for the 5 polynomial degrees:  \n",
      "[0.64200477 0.66825776 0.70167064 0.64200477 0.59904535]\n",
      "Accuracies for C value=  100.0  for the 5 polynomial degrees:  \n",
      "[0.6300716  0.66825776 0.70405728 0.64439141 0.61813842]\n",
      "Accuracies for C value=  1000.0  for the 5 polynomial degrees:  \n",
      "[0.62529833 0.66825776 0.70405728 0.64439141 0.61813842]\n",
      "\n",
      "Accuracies for fold  4 :  \n",
      "Accuracies for C value=  0.01  for the 5 polynomial degrees:  \n",
      "[0.52631579 0.52631579 0.52631579 0.52631579 0.52631579]\n",
      "Accuracies for C value=  0.1  for the 5 polynomial degrees:  \n",
      "[0.66985646 0.54784689 0.52870813 0.52631579 0.52631579]\n",
      "Accuracies for C value=  1.0  for the 5 polynomial degrees:  \n",
      "[0.69617225 0.63875598 0.66746411 0.58373206 0.57894737]\n",
      "Accuracies for C value=  10.0  for the 5 polynomial degrees:  \n",
      "[0.67703349 0.64354067 0.715311   0.64832536 0.64593301]\n",
      "Accuracies for C value=  100.0  for the 5 polynomial degrees:  \n",
      "[0.66267943 0.64354067 0.71291866 0.6507177  0.64593301]\n",
      "Accuracies for C value=  1000.0  for the 5 polynomial degrees:  \n",
      "[0.65550239 0.64354067 0.71291866 0.6507177  0.64593301]\n",
      "\n",
      "Accuracies for fold  5 :  \n",
      "Accuracies for C value=  0.01  for the 5 polynomial degrees:  \n",
      "[0.55502392 0.55502392 0.55502392 0.55502392 0.55263158]\n",
      "Accuracies for C value=  0.1  for the 5 polynomial degrees:  \n",
      "[0.65311005 0.58373206 0.56698565 0.55502392 0.55263158]\n",
      "Accuracies for C value=  1.0  for the 5 polynomial degrees:  \n",
      "[0.66028708 0.66507177 0.63875598 0.66267943 0.65311005]\n",
      "Accuracies for C value=  10.0  for the 5 polynomial degrees:  \n",
      "[0.66507177 0.64832536 0.64114833 0.61961722 0.56220096]\n",
      "Accuracies for C value=  100.0  for the 5 polynomial degrees:  \n",
      "[0.64114833 0.64832536 0.64354067 0.61961722 0.55980861]\n",
      "Accuracies for C value=  1000.0  for the 5 polynomial degrees:  \n",
      "[0.62440191 0.64832536 0.64354067 0.61961722 0.55980861]\n",
      "\n",
      "Mean (accross folds) cross-validated accuracies for C-degree combinations \n",
      "Fold-averaged cross-validation accuracies for C=  0.01  for each of the 5 degrees: \n",
      "[0.55278346 0.55087415 0.55087415 0.55087415 0.55039568]\n",
      "Fold-averaged cross-validation accuracies for C=  0.1  for each of the 5 degrees: \n",
      "[0.68368638 0.57380982 0.56042754 0.55421544 0.55278231]\n",
      "Fold-averaged cross-validation accuracies for C=  1.0  for each of the 5 degrees: \n",
      "[0.69277158 0.66840278 0.67651848 0.62350664 0.60297473]\n",
      "Fold-averaged cross-validation accuracies for C=  10.0  for each of the 5 degrees: \n",
      "[0.66651174 0.66123717 0.6789291  0.62924484 0.58768885]\n",
      "Fold-averaged cross-validation accuracies for C=  100.0  for each of the 5 degrees: \n",
      "[0.6421498  0.66123717 0.67845177 0.63020064 0.5929383 ]\n",
      "Fold-averaged cross-validation accuracies for C=  1000.0  for each of the 5 degrees: \n",
      "[0.63354649 0.66123717 0.67845177 0.63020064 0.5929383 ]\n"
     ]
    }
   ],
   "source": [
    "# (a) # Your Code goes here:\n",
    "\n",
    "Crange_SVM=np.logspace(start=-2,stop=3,num=6) #used 6 steps as specified,the step-size is again evenly-spaced\n",
    "#as chosen from the logspace function.\n",
    "\n",
    "degrange=np.arange(1,6) #the arange with arguments (1,6) will take the range 1..5 inclusive. \n",
    "\n",
    "accuracies_SVM = np.ndarray((5,6,5)) #initialize a 3d array(fold iteration,C value and degree value dimensions)\n",
    "\n",
    "fold_i=0\n",
    "for train_indices, test_indices in kfold.split(X_train):\n",
    "    print('Accuracies for fold ',fold_i+1,':  ')\n",
    "    C_i=0\n",
    "    for C_temp in Crange_SVM:\n",
    "        print('Accuracies for C value= ',C_temp,' for the 5 polynomial degrees:  ')\n",
    "        deg_i=0\n",
    "        for deg_temp in degrange: \n",
    "            SVC_temp = SVC(kernel='poly',degree=deg_temp,C=C_temp)\n",
    "            SVC_temp.fit(X_train.iloc[train_indices], y_train.iloc[train_indices])\n",
    "            accuracy_score = SVC_temp.score(X_train.iloc[test_indices], y_train.iloc[test_indices])\n",
    "            accuracies_SVM[fold_i, C_i,deg_i] = accuracy_score\n",
    "            deg_i=deg_i+1\n",
    "        print(accuracies_SVM[fold_i,C_i])\n",
    "        C_i=C_i+1\n",
    "    fold_i=fold_i+1\n",
    "    print()          \n",
    "\n",
    "print('Mean (accross folds) cross-validated accuracies for C-degree combinations ')\n",
    "means_SVM=(np.mean(accuracies_SVM,axis=0))\n",
    "C_i=0\n",
    "for C_temp in Crange_SVM:\n",
    "    print('Fold-averaged cross-validation accuracies for C= ',C_temp,' for each of the 5 degrees: ')\n",
    "    print(means_SVM[C_i])\n",
    "    C_i=C_i+1\n",
    "\n",
    "\n",
    "\n",
    "################ ALTERNATIVE CONCISE SOLUTION USING cross_val_score with a 2d array(instead of 3d)#######################\n",
    "#REASON I DON'T USE THIS SOLUTION INSTEAD IS THE INSTRUCTION/QUESTION ASKING TO USE THE PREVIOUS ITERATOR-KFOLD SPLIT####\n",
    "##################TO RUN AND CHECK/MARK SELECT ALL COMMENTED CODE AND HIT \"CTRL + /\" ####################################\n",
    "#########################################################################################################################\n",
    "\n",
    "# Crange_SVM=np.logspace(start=-2,stop=3,num=6) #used 6 steps as specified,the step-size is again evenly-spaced\n",
    "# #as chosen from the logspace function.\n",
    "\n",
    "# degrange=np.arange(1,6) #the arange with arguments (1,6) will take the range 1..5 inclusive. \n",
    "\n",
    "\n",
    "# mean_accuracies_SVM = np.ndarray((6,5)) #initialize a 3d array(fold iteration,C value and degree value dimensions)\n",
    "# C_i=0\n",
    "# for C_temp in Crange_SVM:\n",
    "#     deg_i=0\n",
    "#     for deg_temp in degrange: \n",
    "#         SVC_temp = SVC(kernel='poly',degree=deg_temp,C=C_temp)\n",
    "#   # Following line is the difference from other solution: using mean of cross_val_score and NO kfold splits outer loop\n",
    "#   # This saves some computational cost because I use 2 for-loops instead of 3 and also produces progress outputs(verbose)\n",
    "#         accuracy_score = np.mean(cross_val_score(X=X_train,y=y_train,cv=kfold,estimator=SVC_temp,verbose=1,n_jobs=-1))\n",
    "#         mean_accuracies_SVM[C_i,deg_i] = accuracy_score\n",
    "#         deg_i=deg_i+1\n",
    "    \n",
    "#     C_i=C_i+1\n",
    "        \n",
    "# print(\"Fold-averaged accuracies:  \")\n",
    "# print(mean_accuracies_SVM)\n",
    "\n",
    "##########################################################################################################################\n",
    "# ########################################################################################################################\n"
   ]
  },
  {
   "cell_type": "markdown",
   "metadata": {},
   "source": [
    "<div align=\"right\"><font color=\"blue\" size=\"4\">5.0</font></div>"
   ]
  },
  {
   "cell_type": "code",
   "execution_count": 146,
   "metadata": {},
   "outputs": [
    {
     "name": "stdout",
     "output_type": "stream",
     "text": [
      "Optimal C-degree combination(yielded max mean cross_val accuracy):  \n",
      "    C= 1.0\n",
      "    degree= 1\n",
      "Optimal combination mean accuracy:  0.693\n"
     ]
    },
    {
     "data": {
      "image/png": "[encoded data removed]",
      "text/plain": [
       "<Figure size 720x360 with 2 Axes>"
      ]
     },
     "metadata": {
      "needs_background": "light"
     },
     "output_type": "display_data"
    }
   ],
   "source": [
    "# (b) # Your Code goes here:\n",
    "figure,axis= plt.subplots(1,1, figsize=(10,5))\n",
    "axis.set_title('Fold-averaged mean accuracies for C-degree pairs',fontsize=17)\n",
    "sns.heatmap(data=means_SVM,xticklabels=degrange,yticklabels=Crange_SVM,annot=True,robust=True,ax=axis)\n",
    "axis.set_xlabel('Polynomial degrees',fontsize=12)\n",
    "axis.set_ylabel('Regularisation parameter C values',fontsize=14)\n",
    "C_optimal_SVM=Crange_SVM[np.where(means_SVM==means_SVM.max())[0]][0]\n",
    "degree_optimal=degrange[np.where(means_SVM==means_SVM.max())[1]][0]\n",
    "print(\"Optimal C-degree combination(yielded max mean cross_val accuracy):  \")\n",
    "print(\"    C=\",C_optimal_SVM)\n",
    "print(\"    degree=\",degree_optimal)\n",
    "print(\"Optimal combination mean accuracy: \",round(means_SVM.max(),3))"
   ]
  },
  {
   "cell_type": "markdown",
   "metadata": {},
   "source": [
    "<div align=\"right\"><font color=\"blue\" size=\"4\">4.0</font></div>"
   ]
  },
  {
   "cell_type": "code",
   "execution_count": 150,
   "metadata": {},
   "outputs": [
    {
     "name": "stdout",
     "output_type": "stream",
     "text": [
      "Accuracy of optimised C-degree polynomial-kernel SVC:  0.689\n"
     ]
    }
   ],
   "source": [
    "# (c) # Your Code goes here:\n",
    "SVC_optimal=SVC(kernel='poly',C=C_optimal_SVM,degree=degree_optimal)\n",
    "SVC_optimal.fit(X_train,y_train)\n",
    "accuracy_optimal_SVM=SVC_optimal.score(X_test,y_test)\n",
    "print(\"Accuracy of optimised C-degree polynomial-kernel SVC: \",round(accuracy_optimal_SVM,3))\n",
    "\n",
    "#######for part (d)#############################################################################################################\n",
    "##### Testing with other kernel and same C_optimal to see if it's the kernel(poly) that's causing the lower than LR accuracy####\n",
    "# SVC_test_other_kernel=SVC(kernel='rbf',C=C_optimal_SVM)\n",
    "# SVC_test_other_kernel.fit(X_train,y_train)\n",
    "# accuracy_test_kernel_SVM=SVC_test_other_kernel.score(X_test,y_test)\n",
    "# print(\"Accuracy of tested C-degree polynomial-kernel SVC: \",round(accuracy_test_kernel_SVM,3))\n",
    "############OUTPUT:############################\n",
    "#Accuracy of tested C-degree rbf-kernel SVC:  0.73\n",
    "################################################################################################################################"
   ]
  },
  {
   "cell_type": "markdown",
   "metadata": {},
   "source": [
    "<div align=\"right\"><font color=\"blue\" size=\"4\">2.0</font></div>"
   ]
  },
  {
   "cell_type": "markdown",
   "metadata": {},
   "source": [
    "(d) ***Your answer goes here:***\n",
    "The optimised SV classifier (with `C`=1.0 and `degree`=1=linear) surprisingly scores **lower** on the testing data than the optimised Logistic Regressor.\n",
    "This could be for many reasons, such as:\n",
    "-  Bad/coincidental optimisation for SV (just *happened* that kfold with 5 splits produced *those* optimal values for `C` and `degree`, although this rarely happens),\n",
    "-  Better ***range of values*** tested for the `C` parameter when optimising the LogisticRegressor *(1E-5 to 1E5)* than SVC *(1E-2 to 1E3)*,\n",
    "-  Better ***solver*** of the Logistic Regressor compared to SVC kernels,\n",
    "-  Overfitting to the training data(more samples could lead to bias/can have outliers),\n",
    "-  **Most importantly**, the ***kernel type*** that we used for our SV classifier.\n",
    "\n",
    "As we can see from the commented-out code in part (c) above, and from the decision boundary plots (***Q2.6***), using the *radial basis function* with the **same** parameter (only applicable for `C` because rbf has no degree) yields ***much better accuracies/decision boundaries*** than our optimised poly-SVC(73% compared to 68.9% of the optimised poly-SVC) **and** Logistic Regressor (73% compared to 69.9% of the optimised LR).\n"
   ]
  },
  {
   "cell_type": "markdown",
   "metadata": {},
   "source": [
    "<div align=\"right\"><font color=\"blue\" size=\"4\">3.0</font></div>"
   ]
  },
  {
   "cell_type": "markdown",
   "metadata": {},
   "source": [
    "### ========== Question 2.8 --- (LEVEL 11) --- [10 marks] ==========\n",
    "\n",
    "Answer the followign theoretical questions:\n",
    "\n",
    "&nbsp;&nbsp;**(a)** [Text] Is a Logistic Regression Classifier equivalent to an SVM with a Linear Kernel? why or why not?<br>\n",
    "&nbsp;&nbsp;**(b)** [Text] In the previous question we optimised the `degree` and regularisation `C` simultaneously. By looking at the heatmap you plotted, can you explain the motivation behind this? That is, what would happen if we were to estimate the optimum along each dimension independently? Can you imagine a case where an independent search along each of the dimensions (known as coordinate-descent) would be guaranteed to yield the optimum result?<br>\n",
    "&nbsp;&nbsp;**(c)** [Text] Despite having a hold-out testing set, we used cross-validation for optimising the hyper-parameters (only using the testing set for comparing models). Why is this? Also, mention an advantage and a disadvantage of using cross-validation to train hyper-parameters rather than a further train/validation split."
   ]
  },
  {
   "cell_type": "markdown",
   "metadata": {},
   "source": [
    "(a) ***Your answer goes here:***"
   ]
  },
  {
   "cell_type": "markdown",
   "metadata": {},
   "source": [
    "(b) ***Your answer goes here:***"
   ]
  },
  {
   "cell_type": "markdown",
   "metadata": {},
   "source": [
    "(c) ***Your answer goes here:***"
   ]
  },
  {
   "cell_type": "markdown",
   "metadata": {},
   "source": [
    "# Appendix\n",
    "## More information about visual words\n",
    "\n",
    "The Visual words used in this project are based on [Scale-invariant feature transforms (SIFT)](https://en.wikipedia.org/wiki/Scale-invariant_feature_transform). SIFT features are essentially local orientation histograms and capture the properties of small image regions. They possess attractive invariance properties which make them well suited for our task (you can read more about SIFT features in [D.Lowe, IJCV 60(2):91- 110, 2004](http://link.springer.com/article/10.1023/B:VISI.0000029664.99615.94), but the details don't matter for the purpose of this assignment). Each SIFT feature is a 128 dimensional vector. From each image many SIFT features are extracted, typically > 2500 per image (features are extracted at regular intervals using a 15 pixel grid and at 4 different scales). To obtain visual words a representative subset of all extracted SIFT features from all images is chosen and clustered with k-means using 500 centres (such use of the k-means algorithm will be discussed in detail during the lecture). These 500 cluster centres form our visual words. The representation of a single image is obtained by first assigning each SIFT feature extracted from the image to the appropriate cluster (i.e. we determine the visual word corresponding to each feature by picking the closest cluster centre). We then count the number of features from that image assigned to each cluster (i.e. we determine how often each visual word is present in the image). This results in a 500 dimensional count vector for each image (one dimension for each visual word). The normalized version of this count vector gives the final representation of the image (normalized means that we divide the count vector by the total number of visual words in the image, i.e. the normalized counts sum to 1 for each image)"
   ]
  }
 ],
 "metadata": {
  "anaconda-cloud": {},
  "kernelspec": {
   "display_name": "Python 3",
   "language": "python",
   "name": "python3"
  },
  "language_info": {
   "codemirror_mode": {
    "name": "ipython",
    "version": 3
   },
   "file_extension": ".py",
   "mimetype": "text/x-python",
   "name": "python",
   "nbconvert_exporter": "python",
   "pygments_lexer": "ipython3",
   "version": "3.4.9"
  }
 },
 "nbformat": 4,
 "nbformat_minor": 1
}
